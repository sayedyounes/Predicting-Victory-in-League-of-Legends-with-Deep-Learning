{
 "cells": [
  {
   "cell_type": "code",
   "execution_count": 1,
   "id": "c407409d",
   "metadata": {
    "execution": {
     "iopub.execute_input": "2025-08-14T18:12:05.239294Z",
     "iopub.status.busy": "2025-08-14T18:12:05.238991Z",
     "iopub.status.idle": "2025-08-14T18:12:06.999967Z",
     "shell.execute_reply": "2025-08-14T18:12:06.999157Z"
    },
    "papermill": {
     "duration": 1.770315,
     "end_time": "2025-08-14T18:12:07.001807",
     "exception": false,
     "start_time": "2025-08-14T18:12:05.231492",
     "status": "completed"
    },
    "tags": []
   },
   "outputs": [],
   "source": [
    "import pandas as pd \n",
    "import numpy as np\n",
    "import seaborn as sns\n",
    "import matplotlib.pyplot as plt"
   ]
  },
  {
   "cell_type": "markdown",
   "id": "0d6eea74",
   "metadata": {
    "papermill": {
     "duration": 0.00535,
     "end_time": "2025-08-14T18:12:07.013201",
     "exception": false,
     "start_time": "2025-08-14T18:12:07.007851",
     "status": "completed"
    },
    "tags": []
   },
   "source": [
    "Loads the main TensorFlow package.\n",
    "layers contains building blocks like Dense, Conv2D, Dropout, LSTM, etc., that you can stack to create models."
   ]
  },
  {
   "cell_type": "code",
   "execution_count": 2,
   "id": "2095acef",
   "metadata": {
    "execution": {
     "iopub.execute_input": "2025-08-14T18:12:07.025446Z",
     "iopub.status.busy": "2025-08-14T18:12:07.025040Z",
     "iopub.status.idle": "2025-08-14T18:12:18.035377Z",
     "shell.execute_reply": "2025-08-14T18:12:18.034227Z"
    },
    "papermill": {
     "duration": 11.018796,
     "end_time": "2025-08-14T18:12:18.037396",
     "exception": false,
     "start_time": "2025-08-14T18:12:07.018600",
     "status": "completed"
    },
    "tags": []
   },
   "outputs": [
    {
     "name": "stderr",
     "output_type": "stream",
     "text": [
      "2025-08-14 18:12:09.009485: E external/local_xla/xla/stream_executor/cuda/cuda_dnn.cc:9261] Unable to register cuDNN factory: Attempting to register factory for plugin cuDNN when one has already been registered\n",
      "2025-08-14 18:12:09.009642: E external/local_xla/xla/stream_executor/cuda/cuda_fft.cc:607] Unable to register cuFFT factory: Attempting to register factory for plugin cuFFT when one has already been registered\n",
      "2025-08-14 18:12:09.131374: E external/local_xla/xla/stream_executor/cuda/cuda_blas.cc:1515] Unable to register cuBLAS factory: Attempting to register factory for plugin cuBLAS when one has already been registered\n"
     ]
    }
   ],
   "source": [
    "import tensorflow as tf\n",
    "from tensorflow.keras import layers"
   ]
  },
  {
   "cell_type": "code",
   "execution_count": 3,
   "id": "6aa73ff3",
   "metadata": {
    "execution": {
     "iopub.execute_input": "2025-08-14T18:12:18.052160Z",
     "iopub.status.busy": "2025-08-14T18:12:18.051590Z",
     "iopub.status.idle": "2025-08-14T18:12:18.117215Z",
     "shell.execute_reply": "2025-08-14T18:12:18.116492Z"
    },
    "papermill": {
     "duration": 0.075401,
     "end_time": "2025-08-14T18:12:18.119031",
     "exception": false,
     "start_time": "2025-08-14T18:12:18.043630",
     "status": "completed"
    },
    "tags": []
   },
   "outputs": [],
   "source": [
    "data = pd.read_csv('/kaggle/input/league-of-legends-diamond-ranked-games-10-min/high_diamond_ranked_10min.csv')"
   ]
  },
  {
   "cell_type": "code",
   "execution_count": 4,
   "id": "4694b449",
   "metadata": {
    "execution": {
     "iopub.execute_input": "2025-08-14T18:12:18.131538Z",
     "iopub.status.busy": "2025-08-14T18:12:18.131290Z",
     "iopub.status.idle": "2025-08-14T18:12:18.155729Z",
     "shell.execute_reply": "2025-08-14T18:12:18.154861Z"
    },
    "papermill": {
     "duration": 0.032371,
     "end_time": "2025-08-14T18:12:18.157380",
     "exception": false,
     "start_time": "2025-08-14T18:12:18.125009",
     "status": "completed"
    },
    "tags": []
   },
   "outputs": [
    {
     "data": {
      "text/html": [
       "<div>\n",
       "<style scoped>\n",
       "    .dataframe tbody tr th:only-of-type {\n",
       "        vertical-align: middle;\n",
       "    }\n",
       "\n",
       "    .dataframe tbody tr th {\n",
       "        vertical-align: top;\n",
       "    }\n",
       "\n",
       "    .dataframe thead th {\n",
       "        text-align: right;\n",
       "    }\n",
       "</style>\n",
       "<table border=\"1\" class=\"dataframe\">\n",
       "  <thead>\n",
       "    <tr style=\"text-align: right;\">\n",
       "      <th></th>\n",
       "      <th>gameId</th>\n",
       "      <th>blueWins</th>\n",
       "      <th>blueWardsPlaced</th>\n",
       "      <th>blueWardsDestroyed</th>\n",
       "      <th>blueFirstBlood</th>\n",
       "      <th>blueKills</th>\n",
       "      <th>blueDeaths</th>\n",
       "      <th>blueAssists</th>\n",
       "      <th>blueEliteMonsters</th>\n",
       "      <th>blueDragons</th>\n",
       "      <th>...</th>\n",
       "      <th>redTowersDestroyed</th>\n",
       "      <th>redTotalGold</th>\n",
       "      <th>redAvgLevel</th>\n",
       "      <th>redTotalExperience</th>\n",
       "      <th>redTotalMinionsKilled</th>\n",
       "      <th>redTotalJungleMinionsKilled</th>\n",
       "      <th>redGoldDiff</th>\n",
       "      <th>redExperienceDiff</th>\n",
       "      <th>redCSPerMin</th>\n",
       "      <th>redGoldPerMin</th>\n",
       "    </tr>\n",
       "  </thead>\n",
       "  <tbody>\n",
       "    <tr>\n",
       "      <th>0</th>\n",
       "      <td>4519157822</td>\n",
       "      <td>0</td>\n",
       "      <td>28</td>\n",
       "      <td>2</td>\n",
       "      <td>1</td>\n",
       "      <td>9</td>\n",
       "      <td>6</td>\n",
       "      <td>11</td>\n",
       "      <td>0</td>\n",
       "      <td>0</td>\n",
       "      <td>...</td>\n",
       "      <td>0</td>\n",
       "      <td>16567</td>\n",
       "      <td>6.8</td>\n",
       "      <td>17047</td>\n",
       "      <td>197</td>\n",
       "      <td>55</td>\n",
       "      <td>-643</td>\n",
       "      <td>8</td>\n",
       "      <td>19.7</td>\n",
       "      <td>1656.7</td>\n",
       "    </tr>\n",
       "    <tr>\n",
       "      <th>1</th>\n",
       "      <td>4523371949</td>\n",
       "      <td>0</td>\n",
       "      <td>12</td>\n",
       "      <td>1</td>\n",
       "      <td>0</td>\n",
       "      <td>5</td>\n",
       "      <td>5</td>\n",
       "      <td>5</td>\n",
       "      <td>0</td>\n",
       "      <td>0</td>\n",
       "      <td>...</td>\n",
       "      <td>1</td>\n",
       "      <td>17620</td>\n",
       "      <td>6.8</td>\n",
       "      <td>17438</td>\n",
       "      <td>240</td>\n",
       "      <td>52</td>\n",
       "      <td>2908</td>\n",
       "      <td>1173</td>\n",
       "      <td>24.0</td>\n",
       "      <td>1762.0</td>\n",
       "    </tr>\n",
       "    <tr>\n",
       "      <th>2</th>\n",
       "      <td>4521474530</td>\n",
       "      <td>0</td>\n",
       "      <td>15</td>\n",
       "      <td>0</td>\n",
       "      <td>0</td>\n",
       "      <td>7</td>\n",
       "      <td>11</td>\n",
       "      <td>4</td>\n",
       "      <td>1</td>\n",
       "      <td>1</td>\n",
       "      <td>...</td>\n",
       "      <td>0</td>\n",
       "      <td>17285</td>\n",
       "      <td>6.8</td>\n",
       "      <td>17254</td>\n",
       "      <td>203</td>\n",
       "      <td>28</td>\n",
       "      <td>1172</td>\n",
       "      <td>1033</td>\n",
       "      <td>20.3</td>\n",
       "      <td>1728.5</td>\n",
       "    </tr>\n",
       "    <tr>\n",
       "      <th>3</th>\n",
       "      <td>4524384067</td>\n",
       "      <td>0</td>\n",
       "      <td>43</td>\n",
       "      <td>1</td>\n",
       "      <td>0</td>\n",
       "      <td>4</td>\n",
       "      <td>5</td>\n",
       "      <td>5</td>\n",
       "      <td>1</td>\n",
       "      <td>0</td>\n",
       "      <td>...</td>\n",
       "      <td>0</td>\n",
       "      <td>16478</td>\n",
       "      <td>7.0</td>\n",
       "      <td>17961</td>\n",
       "      <td>235</td>\n",
       "      <td>47</td>\n",
       "      <td>1321</td>\n",
       "      <td>7</td>\n",
       "      <td>23.5</td>\n",
       "      <td>1647.8</td>\n",
       "    </tr>\n",
       "    <tr>\n",
       "      <th>4</th>\n",
       "      <td>4436033771</td>\n",
       "      <td>0</td>\n",
       "      <td>75</td>\n",
       "      <td>4</td>\n",
       "      <td>0</td>\n",
       "      <td>6</td>\n",
       "      <td>6</td>\n",
       "      <td>6</td>\n",
       "      <td>0</td>\n",
       "      <td>0</td>\n",
       "      <td>...</td>\n",
       "      <td>0</td>\n",
       "      <td>17404</td>\n",
       "      <td>7.0</td>\n",
       "      <td>18313</td>\n",
       "      <td>225</td>\n",
       "      <td>67</td>\n",
       "      <td>1004</td>\n",
       "      <td>-230</td>\n",
       "      <td>22.5</td>\n",
       "      <td>1740.4</td>\n",
       "    </tr>\n",
       "  </tbody>\n",
       "</table>\n",
       "<p>5 rows × 40 columns</p>\n",
       "</div>"
      ],
      "text/plain": [
       "       gameId  blueWins  blueWardsPlaced  blueWardsDestroyed  blueFirstBlood  \\\n",
       "0  4519157822         0               28                   2               1   \n",
       "1  4523371949         0               12                   1               0   \n",
       "2  4521474530         0               15                   0               0   \n",
       "3  4524384067         0               43                   1               0   \n",
       "4  4436033771         0               75                   4               0   \n",
       "\n",
       "   blueKills  blueDeaths  blueAssists  blueEliteMonsters  blueDragons  ...  \\\n",
       "0          9           6           11                  0            0  ...   \n",
       "1          5           5            5                  0            0  ...   \n",
       "2          7          11            4                  1            1  ...   \n",
       "3          4           5            5                  1            0  ...   \n",
       "4          6           6            6                  0            0  ...   \n",
       "\n",
       "   redTowersDestroyed  redTotalGold  redAvgLevel  redTotalExperience  \\\n",
       "0                   0         16567          6.8               17047   \n",
       "1                   1         17620          6.8               17438   \n",
       "2                   0         17285          6.8               17254   \n",
       "3                   0         16478          7.0               17961   \n",
       "4                   0         17404          7.0               18313   \n",
       "\n",
       "   redTotalMinionsKilled  redTotalJungleMinionsKilled  redGoldDiff  \\\n",
       "0                    197                           55         -643   \n",
       "1                    240                           52         2908   \n",
       "2                    203                           28         1172   \n",
       "3                    235                           47         1321   \n",
       "4                    225                           67         1004   \n",
       "\n",
       "   redExperienceDiff  redCSPerMin  redGoldPerMin  \n",
       "0                  8         19.7         1656.7  \n",
       "1               1173         24.0         1762.0  \n",
       "2               1033         20.3         1728.5  \n",
       "3                  7         23.5         1647.8  \n",
       "4               -230         22.5         1740.4  \n",
       "\n",
       "[5 rows x 40 columns]"
      ]
     },
     "execution_count": 4,
     "metadata": {},
     "output_type": "execute_result"
    }
   ],
   "source": [
    "data.head()"
   ]
  },
  {
   "cell_type": "code",
   "execution_count": 5,
   "id": "ada683c4",
   "metadata": {
    "execution": {
     "iopub.execute_input": "2025-08-14T18:12:18.171887Z",
     "iopub.status.busy": "2025-08-14T18:12:18.171593Z",
     "iopub.status.idle": "2025-08-14T18:12:18.176744Z",
     "shell.execute_reply": "2025-08-14T18:12:18.176051Z"
    },
    "papermill": {
     "duration": 0.014058,
     "end_time": "2025-08-14T18:12:18.178168",
     "exception": false,
     "start_time": "2025-08-14T18:12:18.164110",
     "status": "completed"
    },
    "tags": []
   },
   "outputs": [
    {
     "data": {
      "text/plain": [
       "(9879, 40)"
      ]
     },
     "execution_count": 5,
     "metadata": {},
     "output_type": "execute_result"
    }
   ],
   "source": [
    "data.shape"
   ]
  },
  {
   "cell_type": "code",
   "execution_count": 6,
   "id": "fe89e413",
   "metadata": {
    "execution": {
     "iopub.execute_input": "2025-08-14T18:12:18.192280Z",
     "iopub.status.busy": "2025-08-14T18:12:18.191996Z",
     "iopub.status.idle": "2025-08-14T18:12:18.196861Z",
     "shell.execute_reply": "2025-08-14T18:12:18.196200Z"
    },
    "papermill": {
     "duration": 0.014096,
     "end_time": "2025-08-14T18:12:18.198643",
     "exception": false,
     "start_time": "2025-08-14T18:12:18.184547",
     "status": "completed"
    },
    "tags": []
   },
   "outputs": [],
   "source": [
    "data.drop('gameId', axis=1, inplace=True)"
   ]
  },
  {
   "cell_type": "markdown",
   "id": "58c7a3b4",
   "metadata": {
    "papermill": {
     "duration": 0.005712,
     "end_time": "2025-08-14T18:12:18.210860",
     "exception": false,
     "start_time": "2025-08-14T18:12:18.205148",
     "status": "completed"
    },
    "tags": []
   },
   "source": [
    "data.sample(frac=1) → takes 100% (frac=1) of the rows but in a random order (shuffling).\n",
    "\n",
    ".reset_index(drop=True) → resets the index after shuffling so you don’t keep the old row numbers."
   ]
  },
  {
   "cell_type": "code",
   "execution_count": 7,
   "id": "1e00add6",
   "metadata": {
    "execution": {
     "iopub.execute_input": "2025-08-14T18:12:18.223689Z",
     "iopub.status.busy": "2025-08-14T18:12:18.223426Z",
     "iopub.status.idle": "2025-08-14T18:12:18.230374Z",
     "shell.execute_reply": "2025-08-14T18:12:18.229614Z"
    },
    "papermill": {
     "duration": 0.015624,
     "end_time": "2025-08-14T18:12:18.232231",
     "exception": false,
     "start_time": "2025-08-14T18:12:18.216607",
     "status": "completed"
    },
    "tags": []
   },
   "outputs": [],
   "source": [
    "data = data.sample(frac=1).reset_index(drop=True)"
   ]
  },
  {
   "cell_type": "markdown",
   "id": "bc922e4b",
   "metadata": {
    "papermill": {
     "duration": 0.005854,
     "end_time": "2025-08-14T18:12:18.244613",
     "exception": false,
     "start_time": "2025-08-14T18:12:18.238759",
     "status": "completed"
    },
    "tags": []
   },
   "source": [
    "That line is selecting the blueWins column from your shuffled DataFrame and storing it in y.\n",
    "\n",
    "blueWins is the target label in this League of Legends dataset —\n",
    "1 means the blue team won, 0 means they didn’t."
   ]
  },
  {
   "cell_type": "code",
   "execution_count": 8,
   "id": "5f21ffd1",
   "metadata": {
    "execution": {
     "iopub.execute_input": "2025-08-14T18:12:18.258337Z",
     "iopub.status.busy": "2025-08-14T18:12:18.257440Z",
     "iopub.status.idle": "2025-08-14T18:12:18.265147Z",
     "shell.execute_reply": "2025-08-14T18:12:18.264304Z"
    },
    "papermill": {
     "duration": 0.01664,
     "end_time": "2025-08-14T18:12:18.266988",
     "exception": false,
     "start_time": "2025-08-14T18:12:18.250348",
     "status": "completed"
    },
    "tags": []
   },
   "outputs": [
    {
     "data": {
      "text/plain": [
       "0       1\n",
       "1       0\n",
       "2       1\n",
       "3       0\n",
       "4       1\n",
       "       ..\n",
       "9874    1\n",
       "9875    1\n",
       "9876    0\n",
       "9877    1\n",
       "9878    0\n",
       "Name: blueWins, Length: 9879, dtype: int64"
      ]
     },
     "execution_count": 8,
     "metadata": {},
     "output_type": "execute_result"
    }
   ],
   "source": [
    "y = data['blueWins']\n",
    "y"
   ]
  },
  {
   "cell_type": "markdown",
   "id": "985ca898",
   "metadata": {
    "papermill": {
     "duration": 0.005789,
     "end_time": "2025-08-14T18:12:18.279412",
     "exception": false,
     "start_time": "2025-08-14T18:12:18.273623",
     "status": "completed"
    },
    "tags": []
   },
   "source": [
    "That line is creating your features DataFrame X by removing the target column blueWins from data but without altering the original DataFrame."
   ]
  },
  {
   "cell_type": "code",
   "execution_count": 9,
   "id": "5b515103",
   "metadata": {
    "execution": {
     "iopub.execute_input": "2025-08-14T18:12:18.292601Z",
     "iopub.status.busy": "2025-08-14T18:12:18.292235Z",
     "iopub.status.idle": "2025-08-14T18:12:18.297712Z",
     "shell.execute_reply": "2025-08-14T18:12:18.296574Z"
    },
    "papermill": {
     "duration": 0.014453,
     "end_time": "2025-08-14T18:12:18.299773",
     "exception": false,
     "start_time": "2025-08-14T18:12:18.285320",
     "status": "completed"
    },
    "tags": []
   },
   "outputs": [],
   "source": [
    "X = data.drop('blueWins', axis=1, inplace=False)"
   ]
  },
  {
   "cell_type": "code",
   "execution_count": 10,
   "id": "0dbf9797",
   "metadata": {
    "execution": {
     "iopub.execute_input": "2025-08-14T18:12:18.314521Z",
     "iopub.status.busy": "2025-08-14T18:12:18.314223Z",
     "iopub.status.idle": "2025-08-14T18:12:18.331808Z",
     "shell.execute_reply": "2025-08-14T18:12:18.330792Z"
    },
    "papermill": {
     "duration": 0.027079,
     "end_time": "2025-08-14T18:12:18.333588",
     "exception": false,
     "start_time": "2025-08-14T18:12:18.306509",
     "status": "completed"
    },
    "tags": []
   },
   "outputs": [
    {
     "data": {
      "text/html": [
       "<div>\n",
       "<style scoped>\n",
       "    .dataframe tbody tr th:only-of-type {\n",
       "        vertical-align: middle;\n",
       "    }\n",
       "\n",
       "    .dataframe tbody tr th {\n",
       "        vertical-align: top;\n",
       "    }\n",
       "\n",
       "    .dataframe thead th {\n",
       "        text-align: right;\n",
       "    }\n",
       "</style>\n",
       "<table border=\"1\" class=\"dataframe\">\n",
       "  <thead>\n",
       "    <tr style=\"text-align: right;\">\n",
       "      <th></th>\n",
       "      <th>blueWardsPlaced</th>\n",
       "      <th>blueWardsDestroyed</th>\n",
       "      <th>blueFirstBlood</th>\n",
       "      <th>blueKills</th>\n",
       "      <th>blueDeaths</th>\n",
       "      <th>blueAssists</th>\n",
       "      <th>blueEliteMonsters</th>\n",
       "      <th>blueDragons</th>\n",
       "      <th>blueHeralds</th>\n",
       "      <th>blueTowersDestroyed</th>\n",
       "      <th>...</th>\n",
       "      <th>redTowersDestroyed</th>\n",
       "      <th>redTotalGold</th>\n",
       "      <th>redAvgLevel</th>\n",
       "      <th>redTotalExperience</th>\n",
       "      <th>redTotalMinionsKilled</th>\n",
       "      <th>redTotalJungleMinionsKilled</th>\n",
       "      <th>redGoldDiff</th>\n",
       "      <th>redExperienceDiff</th>\n",
       "      <th>redCSPerMin</th>\n",
       "      <th>redGoldPerMin</th>\n",
       "    </tr>\n",
       "  </thead>\n",
       "  <tbody>\n",
       "    <tr>\n",
       "      <th>0</th>\n",
       "      <td>15</td>\n",
       "      <td>6</td>\n",
       "      <td>1</td>\n",
       "      <td>6</td>\n",
       "      <td>3</td>\n",
       "      <td>5</td>\n",
       "      <td>1</td>\n",
       "      <td>1</td>\n",
       "      <td>0</td>\n",
       "      <td>0</td>\n",
       "      <td>...</td>\n",
       "      <td>0</td>\n",
       "      <td>15236</td>\n",
       "      <td>6.8</td>\n",
       "      <td>17312</td>\n",
       "      <td>230</td>\n",
       "      <td>52</td>\n",
       "      <td>-1402</td>\n",
       "      <td>-1512</td>\n",
       "      <td>23.0</td>\n",
       "      <td>1523.6</td>\n",
       "    </tr>\n",
       "    <tr>\n",
       "      <th>1</th>\n",
       "      <td>18</td>\n",
       "      <td>4</td>\n",
       "      <td>1</td>\n",
       "      <td>8</td>\n",
       "      <td>1</td>\n",
       "      <td>6</td>\n",
       "      <td>1</td>\n",
       "      <td>0</td>\n",
       "      <td>1</td>\n",
       "      <td>0</td>\n",
       "      <td>...</td>\n",
       "      <td>0</td>\n",
       "      <td>14119</td>\n",
       "      <td>6.6</td>\n",
       "      <td>17037</td>\n",
       "      <td>210</td>\n",
       "      <td>60</td>\n",
       "      <td>-4488</td>\n",
       "      <td>-3191</td>\n",
       "      <td>21.0</td>\n",
       "      <td>1411.9</td>\n",
       "    </tr>\n",
       "    <tr>\n",
       "      <th>2</th>\n",
       "      <td>16</td>\n",
       "      <td>5</td>\n",
       "      <td>0</td>\n",
       "      <td>6</td>\n",
       "      <td>4</td>\n",
       "      <td>7</td>\n",
       "      <td>0</td>\n",
       "      <td>0</td>\n",
       "      <td>0</td>\n",
       "      <td>0</td>\n",
       "      <td>...</td>\n",
       "      <td>0</td>\n",
       "      <td>15067</td>\n",
       "      <td>6.8</td>\n",
       "      <td>17470</td>\n",
       "      <td>213</td>\n",
       "      <td>52</td>\n",
       "      <td>-1552</td>\n",
       "      <td>-1488</td>\n",
       "      <td>21.3</td>\n",
       "      <td>1506.7</td>\n",
       "    </tr>\n",
       "    <tr>\n",
       "      <th>3</th>\n",
       "      <td>18</td>\n",
       "      <td>4</td>\n",
       "      <td>1</td>\n",
       "      <td>5</td>\n",
       "      <td>3</td>\n",
       "      <td>4</td>\n",
       "      <td>0</td>\n",
       "      <td>0</td>\n",
       "      <td>0</td>\n",
       "      <td>0</td>\n",
       "      <td>...</td>\n",
       "      <td>0</td>\n",
       "      <td>15909</td>\n",
       "      <td>7.2</td>\n",
       "      <td>18532</td>\n",
       "      <td>254</td>\n",
       "      <td>53</td>\n",
       "      <td>27</td>\n",
       "      <td>-114</td>\n",
       "      <td>25.4</td>\n",
       "      <td>1590.9</td>\n",
       "    </tr>\n",
       "    <tr>\n",
       "      <th>4</th>\n",
       "      <td>13</td>\n",
       "      <td>1</td>\n",
       "      <td>0</td>\n",
       "      <td>4</td>\n",
       "      <td>6</td>\n",
       "      <td>2</td>\n",
       "      <td>0</td>\n",
       "      <td>0</td>\n",
       "      <td>0</td>\n",
       "      <td>0</td>\n",
       "      <td>...</td>\n",
       "      <td>0</td>\n",
       "      <td>16829</td>\n",
       "      <td>6.8</td>\n",
       "      <td>18389</td>\n",
       "      <td>223</td>\n",
       "      <td>75</td>\n",
       "      <td>2142</td>\n",
       "      <td>1742</td>\n",
       "      <td>22.3</td>\n",
       "      <td>1682.9</td>\n",
       "    </tr>\n",
       "    <tr>\n",
       "      <th>...</th>\n",
       "      <td>...</td>\n",
       "      <td>...</td>\n",
       "      <td>...</td>\n",
       "      <td>...</td>\n",
       "      <td>...</td>\n",
       "      <td>...</td>\n",
       "      <td>...</td>\n",
       "      <td>...</td>\n",
       "      <td>...</td>\n",
       "      <td>...</td>\n",
       "      <td>...</td>\n",
       "      <td>...</td>\n",
       "      <td>...</td>\n",
       "      <td>...</td>\n",
       "      <td>...</td>\n",
       "      <td>...</td>\n",
       "      <td>...</td>\n",
       "      <td>...</td>\n",
       "      <td>...</td>\n",
       "      <td>...</td>\n",
       "      <td>...</td>\n",
       "    </tr>\n",
       "    <tr>\n",
       "      <th>9874</th>\n",
       "      <td>19</td>\n",
       "      <td>4</td>\n",
       "      <td>1</td>\n",
       "      <td>8</td>\n",
       "      <td>6</td>\n",
       "      <td>8</td>\n",
       "      <td>1</td>\n",
       "      <td>1</td>\n",
       "      <td>0</td>\n",
       "      <td>0</td>\n",
       "      <td>...</td>\n",
       "      <td>0</td>\n",
       "      <td>16515</td>\n",
       "      <td>7.0</td>\n",
       "      <td>17869</td>\n",
       "      <td>233</td>\n",
       "      <td>47</td>\n",
       "      <td>-469</td>\n",
       "      <td>755</td>\n",
       "      <td>23.3</td>\n",
       "      <td>1651.5</td>\n",
       "    </tr>\n",
       "    <tr>\n",
       "      <th>9875</th>\n",
       "      <td>18</td>\n",
       "      <td>1</td>\n",
       "      <td>0</td>\n",
       "      <td>4</td>\n",
       "      <td>4</td>\n",
       "      <td>4</td>\n",
       "      <td>1</td>\n",
       "      <td>0</td>\n",
       "      <td>1</td>\n",
       "      <td>0</td>\n",
       "      <td>...</td>\n",
       "      <td>0</td>\n",
       "      <td>15179</td>\n",
       "      <td>6.6</td>\n",
       "      <td>16617</td>\n",
       "      <td>214</td>\n",
       "      <td>38</td>\n",
       "      <td>-202</td>\n",
       "      <td>-686</td>\n",
       "      <td>21.4</td>\n",
       "      <td>1517.9</td>\n",
       "    </tr>\n",
       "    <tr>\n",
       "      <th>9876</th>\n",
       "      <td>19</td>\n",
       "      <td>2</td>\n",
       "      <td>1</td>\n",
       "      <td>6</td>\n",
       "      <td>7</td>\n",
       "      <td>7</td>\n",
       "      <td>1</td>\n",
       "      <td>0</td>\n",
       "      <td>1</td>\n",
       "      <td>0</td>\n",
       "      <td>...</td>\n",
       "      <td>0</td>\n",
       "      <td>16563</td>\n",
       "      <td>6.8</td>\n",
       "      <td>18447</td>\n",
       "      <td>235</td>\n",
       "      <td>36</td>\n",
       "      <td>513</td>\n",
       "      <td>1056</td>\n",
       "      <td>23.5</td>\n",
       "      <td>1656.3</td>\n",
       "    </tr>\n",
       "    <tr>\n",
       "      <th>9877</th>\n",
       "      <td>16</td>\n",
       "      <td>2</td>\n",
       "      <td>1</td>\n",
       "      <td>6</td>\n",
       "      <td>3</td>\n",
       "      <td>5</td>\n",
       "      <td>1</td>\n",
       "      <td>1</td>\n",
       "      <td>0</td>\n",
       "      <td>0</td>\n",
       "      <td>...</td>\n",
       "      <td>0</td>\n",
       "      <td>14488</td>\n",
       "      <td>6.4</td>\n",
       "      <td>16519</td>\n",
       "      <td>201</td>\n",
       "      <td>61</td>\n",
       "      <td>-2443</td>\n",
       "      <td>-1566</td>\n",
       "      <td>20.1</td>\n",
       "      <td>1448.8</td>\n",
       "    </tr>\n",
       "    <tr>\n",
       "      <th>9878</th>\n",
       "      <td>18</td>\n",
       "      <td>3</td>\n",
       "      <td>1</td>\n",
       "      <td>3</td>\n",
       "      <td>5</td>\n",
       "      <td>4</td>\n",
       "      <td>1</td>\n",
       "      <td>0</td>\n",
       "      <td>1</td>\n",
       "      <td>0</td>\n",
       "      <td>...</td>\n",
       "      <td>0</td>\n",
       "      <td>15644</td>\n",
       "      <td>7.0</td>\n",
       "      <td>18203</td>\n",
       "      <td>236</td>\n",
       "      <td>40</td>\n",
       "      <td>234</td>\n",
       "      <td>406</td>\n",
       "      <td>23.6</td>\n",
       "      <td>1564.4</td>\n",
       "    </tr>\n",
       "  </tbody>\n",
       "</table>\n",
       "<p>9879 rows × 38 columns</p>\n",
       "</div>"
      ],
      "text/plain": [
       "      blueWardsPlaced  blueWardsDestroyed  blueFirstBlood  blueKills  \\\n",
       "0                  15                   6               1          6   \n",
       "1                  18                   4               1          8   \n",
       "2                  16                   5               0          6   \n",
       "3                  18                   4               1          5   \n",
       "4                  13                   1               0          4   \n",
       "...               ...                 ...             ...        ...   \n",
       "9874               19                   4               1          8   \n",
       "9875               18                   1               0          4   \n",
       "9876               19                   2               1          6   \n",
       "9877               16                   2               1          6   \n",
       "9878               18                   3               1          3   \n",
       "\n",
       "      blueDeaths  blueAssists  blueEliteMonsters  blueDragons  blueHeralds  \\\n",
       "0              3            5                  1            1            0   \n",
       "1              1            6                  1            0            1   \n",
       "2              4            7                  0            0            0   \n",
       "3              3            4                  0            0            0   \n",
       "4              6            2                  0            0            0   \n",
       "...          ...          ...                ...          ...          ...   \n",
       "9874           6            8                  1            1            0   \n",
       "9875           4            4                  1            0            1   \n",
       "9876           7            7                  1            0            1   \n",
       "9877           3            5                  1            1            0   \n",
       "9878           5            4                  1            0            1   \n",
       "\n",
       "      blueTowersDestroyed  ...  redTowersDestroyed  redTotalGold  redAvgLevel  \\\n",
       "0                       0  ...                   0         15236          6.8   \n",
       "1                       0  ...                   0         14119          6.6   \n",
       "2                       0  ...                   0         15067          6.8   \n",
       "3                       0  ...                   0         15909          7.2   \n",
       "4                       0  ...                   0         16829          6.8   \n",
       "...                   ...  ...                 ...           ...          ...   \n",
       "9874                    0  ...                   0         16515          7.0   \n",
       "9875                    0  ...                   0         15179          6.6   \n",
       "9876                    0  ...                   0         16563          6.8   \n",
       "9877                    0  ...                   0         14488          6.4   \n",
       "9878                    0  ...                   0         15644          7.0   \n",
       "\n",
       "      redTotalExperience  redTotalMinionsKilled  redTotalJungleMinionsKilled  \\\n",
       "0                  17312                    230                           52   \n",
       "1                  17037                    210                           60   \n",
       "2                  17470                    213                           52   \n",
       "3                  18532                    254                           53   \n",
       "4                  18389                    223                           75   \n",
       "...                  ...                    ...                          ...   \n",
       "9874               17869                    233                           47   \n",
       "9875               16617                    214                           38   \n",
       "9876               18447                    235                           36   \n",
       "9877               16519                    201                           61   \n",
       "9878               18203                    236                           40   \n",
       "\n",
       "      redGoldDiff  redExperienceDiff  redCSPerMin  redGoldPerMin  \n",
       "0           -1402              -1512         23.0         1523.6  \n",
       "1           -4488              -3191         21.0         1411.9  \n",
       "2           -1552              -1488         21.3         1506.7  \n",
       "3              27               -114         25.4         1590.9  \n",
       "4            2142               1742         22.3         1682.9  \n",
       "...           ...                ...          ...            ...  \n",
       "9874         -469                755         23.3         1651.5  \n",
       "9875         -202               -686         21.4         1517.9  \n",
       "9876          513               1056         23.5         1656.3  \n",
       "9877        -2443              -1566         20.1         1448.8  \n",
       "9878          234                406         23.6         1564.4  \n",
       "\n",
       "[9879 rows x 38 columns]"
      ]
     },
     "execution_count": 10,
     "metadata": {},
     "output_type": "execute_result"
    }
   ],
   "source": [
    "X"
   ]
  },
  {
   "cell_type": "markdown",
   "id": "f5c348d2",
   "metadata": {
    "papermill": {
     "duration": 0.006545,
     "end_time": "2025-08-14T18:12:18.347029",
     "exception": false,
     "start_time": "2025-08-14T18:12:18.340484",
     "status": "completed"
    },
    "tags": []
   },
   "source": [
    "## Feature Correlation"
   ]
  },
  {
   "cell_type": "markdown",
   "id": "90e03025",
   "metadata": {
    "papermill": {
     "duration": 0.006256,
     "end_time": "2025-08-14T18:12:18.360396",
     "exception": false,
     "start_time": "2025-08-14T18:12:18.354140",
     "status": "completed"
    },
    "tags": []
   },
   "source": [
    "Close to +1 → strong positive relationship (as the feature increases, wins are more likely).\n",
    "\n",
    "Close to -1 → strong negative relationship (as the feature increases, wins are less likely).\n",
    "\n",
    "Near 0 → little or no linear relationship."
   ]
  },
  {
   "cell_type": "code",
   "execution_count": 11,
   "id": "7abc7dca",
   "metadata": {
    "execution": {
     "iopub.execute_input": "2025-08-14T18:12:18.374960Z",
     "iopub.status.busy": "2025-08-14T18:12:18.374625Z",
     "iopub.status.idle": "2025-08-14T18:12:18.902129Z",
     "shell.execute_reply": "2025-08-14T18:12:18.901300Z"
    },
    "papermill": {
     "duration": 0.537272,
     "end_time": "2025-08-14T18:12:18.904197",
     "exception": false,
     "start_time": "2025-08-14T18:12:18.366925",
     "status": "completed"
    },
    "tags": []
   },
   "outputs": [
    {
     "data": {
      "image/png": "[encoded data removed]",
      "text/plain": [
       "<Figure size 800x800 with 2 Axes>"
      ]
     },
     "metadata": {},
     "output_type": "display_data"
    }
   ],
   "source": [
    "plt.figure(figsize=(8,8))\n",
    "sns.heatmap(data.corr())\n",
    "plt.title(\"Feature Correlation Heatmap\", fontsize=16)\n",
    "plt.show()"
   ]
  },
  {
   "cell_type": "markdown",
   "id": "9087527f",
   "metadata": {
    "papermill": {
     "duration": 0.007949,
     "end_time": "2025-08-14T18:12:18.920567",
     "exception": false,
     "start_time": "2025-08-14T18:12:18.912618",
     "status": "completed"
    },
    "tags": []
   },
   "source": [
    "## Compute correlation matrix\n",
    "## Get correlations with 'blueWins' and sort"
   ]
  },
  {
   "cell_type": "code",
   "execution_count": 12,
   "id": "29ab11f4",
   "metadata": {
    "execution": {
     "iopub.execute_input": "2025-08-14T18:12:18.938377Z",
     "iopub.status.busy": "2025-08-14T18:12:18.938055Z",
     "iopub.status.idle": "2025-08-14T18:12:18.974627Z",
     "shell.execute_reply": "2025-08-14T18:12:18.973452Z"
    },
    "papermill": {
     "duration": 0.047799,
     "end_time": "2025-08-14T18:12:18.976530",
     "exception": false,
     "start_time": "2025-08-14T18:12:18.928731",
     "status": "completed"
    },
    "tags": []
   },
   "outputs": [
    {
     "name": "stdout",
     "output_type": "stream",
     "text": [
      "blueWins                        1.000000\n",
      "blueGoldDiff                    0.511119\n",
      "blueExperienceDiff              0.489558\n",
      "blueTotalGold                   0.417213\n",
      "blueGoldPerMin                  0.417213\n",
      "blueTotalExperience             0.396141\n",
      "blueAvgLevel                    0.357820\n",
      "blueKills                       0.337358\n",
      "redDeaths                       0.337358\n",
      "blueAssists                     0.276685\n",
      "blueCSPerMin                    0.224909\n",
      "blueTotalMinionsKilled          0.224909\n",
      "blueEliteMonsters               0.221944\n",
      "blueDragons                     0.213768\n",
      "blueFirstBlood                  0.201769\n",
      "blueTotalJungleMinionsKilled    0.131445\n",
      "blueTowersDestroyed             0.115566\n",
      "blueHeralds                     0.092385\n",
      "blueWardsDestroyed              0.044247\n",
      "blueWardsPlaced                 0.000087\n",
      "redWardsPlaced                 -0.023671\n",
      "redWardsDestroyed              -0.055400\n",
      "redHeralds                     -0.097172\n",
      "redTowersDestroyed             -0.103696\n",
      "redTotalJungleMinionsKilled    -0.110994\n",
      "redFirstBlood                  -0.201769\n",
      "redDragons                     -0.209516\n",
      "redTotalMinionsKilled          -0.212171\n",
      "redCSPerMin                    -0.212171\n",
      "redEliteMonsters               -0.221551\n",
      "redAssists                     -0.271047\n",
      "blueDeaths                     -0.339297\n",
      "redKills                       -0.339297\n",
      "redAvgLevel                    -0.352127\n",
      "redTotalExperience             -0.387588\n",
      "redTotalGold                   -0.411396\n",
      "redGoldPerMin                  -0.411396\n",
      "redExperienceDiff              -0.489558\n",
      "redGoldDiff                    -0.511119\n",
      "Name: blueWins, dtype: float64\n"
     ]
    }
   ],
   "source": [
    "\n",
    "corr_matrix = data.corr()\n",
    "\n",
    "\n",
    "blue_corr = corr_matrix['blueWins'].sort_values(ascending=False)\n",
    "\n",
    "print(blue_corr)\n"
   ]
  },
  {
   "cell_type": "markdown",
   "id": "1e88f3cd",
   "metadata": {
    "papermill": {
     "duration": 0.007904,
     "end_time": "2025-08-14T18:12:18.993036",
     "exception": false,
     "start_time": "2025-08-14T18:12:18.985132",
     "status": "completed"
    },
    "tags": []
   },
   "source": [
    "correlation heatmap for your features only (X), without the target column blueWins. This is useful to see relationships between features and detect multicollinearity.\n"
   ]
  },
  {
   "cell_type": "code",
   "execution_count": 13,
   "id": "241ab0ea",
   "metadata": {
    "execution": {
     "iopub.execute_input": "2025-08-14T18:12:19.010720Z",
     "iopub.status.busy": "2025-08-14T18:12:19.010421Z",
     "iopub.status.idle": "2025-08-14T18:12:19.653507Z",
     "shell.execute_reply": "2025-08-14T18:12:19.652347Z"
    },
    "papermill": {
     "duration": 0.653982,
     "end_time": "2025-08-14T18:12:19.655128",
     "exception": false,
     "start_time": "2025-08-14T18:12:19.001146",
     "status": "completed"
    },
    "tags": []
   },
   "outputs": [
    {
     "data": {
      "image/png": "[encoded data removed]",
      "text/plain": [
       "<Figure size 1400x1200 with 2 Axes>"
      ]
     },
     "metadata": {},
     "output_type": "display_data"
    }
   ],
   "source": [
    "plt.figure(figsize=(14,12))\n",
    "sns.heatmap(X.corr())\n",
    "plt.title(\"Feature-to-Feature Correlation Heatmap\", fontsize=16)\n",
    "plt.show()"
   ]
  },
  {
   "cell_type": "markdown",
   "id": "549eb530",
   "metadata": {
    "papermill": {
     "duration": 0.009865,
     "end_time": "2025-08-14T18:12:19.675115",
     "exception": false,
     "start_time": "2025-08-14T18:12:19.665250",
     "status": "completed"
    },
    "tags": []
   },
   "source": [
    "## Compute correlation matrix\n",
    "### Select upper triangle of the correlation matrix\n",
    "Find feature pairs with correlation > 0.8\n",
    "abs() → we care about strength, not direction.\n",
    "\n",
    "np.triu(..., k=1) → upper triangle of matrix to avoid duplicates and self-correlation.\n",
    "\n",
    "upper.loc[row, col] > 0.8 → only pairs with strong correlation.\n",
    "\n",
    "Sorting and printing shows which features are highly correlated and could be redundant."
   ]
  },
  {
   "cell_type": "code",
   "execution_count": 14,
   "id": "40afa518",
   "metadata": {
    "execution": {
     "iopub.execute_input": "2025-08-14T18:12:19.739960Z",
     "iopub.status.busy": "2025-08-14T18:12:19.739657Z",
     "iopub.status.idle": "2025-08-14T18:12:19.784906Z",
     "shell.execute_reply": "2025-08-14T18:12:19.783765Z"
    },
    "papermill": {
     "duration": 0.058333,
     "end_time": "2025-08-14T18:12:19.786565",
     "exception": false,
     "start_time": "2025-08-14T18:12:19.728232",
     "status": "completed"
    },
    "tags": []
   },
   "outputs": [
    {
     "name": "stdout",
     "output_type": "stream",
     "text": [
      "redGoldPerMin & redTotalGold: correlation = 1.00\n",
      "blueCSPerMin & blueTotalMinionsKilled: correlation = 1.00\n",
      "redCSPerMin & redTotalMinionsKilled: correlation = 1.00\n",
      "blueGoldPerMin & blueTotalGold: correlation = 1.00\n",
      "redKills & blueDeaths: correlation = 1.00\n",
      "redDeaths & blueKills: correlation = 1.00\n",
      "redGoldDiff & blueGoldDiff: correlation = 1.00\n",
      "redExperienceDiff & blueExperienceDiff: correlation = 1.00\n",
      "redFirstBlood & blueFirstBlood: correlation = 1.00\n",
      "redTotalExperience & redAvgLevel: correlation = 0.90\n",
      "blueTotalExperience & blueAvgLevel: correlation = 0.90\n",
      "blueExperienceDiff & blueGoldDiff: correlation = 0.89\n",
      "redGoldDiff & blueExperienceDiff: correlation = 0.89\n",
      "redExperienceDiff & blueGoldDiff: correlation = 0.89\n",
      "redExperienceDiff & redGoldDiff: correlation = 0.89\n",
      "blueGoldPerMin & blueKills: correlation = 0.89\n",
      "redDeaths & blueGoldPerMin: correlation = 0.89\n",
      "blueTotalGold & blueKills: correlation = 0.89\n",
      "redDeaths & blueTotalGold: correlation = 0.89\n",
      "redTotalGold & blueDeaths: correlation = 0.89\n",
      "redTotalGold & redKills: correlation = 0.89\n",
      "redGoldPerMin & blueDeaths: correlation = 0.89\n",
      "redGoldPerMin & redKills: correlation = 0.89\n",
      "blueGoldDiff & blueTotalGold: correlation = 0.82\n",
      "redGoldDiff & blueTotalGold: correlation = 0.82\n",
      "blueGoldPerMin & blueGoldDiff: correlation = 0.82\n",
      "redGoldDiff & blueGoldPerMin: correlation = 0.82\n",
      "blueAssists & blueKills: correlation = 0.81\n",
      "redDeaths & blueAssists: correlation = 0.81\n",
      "redDragons & redEliteMonsters: correlation = 0.81\n",
      "redTotalGold & blueGoldDiff: correlation = 0.80\n",
      "redGoldDiff & redTotalGold: correlation = 0.80\n",
      "redGoldPerMin & blueGoldDiff: correlation = 0.80\n",
      "redGoldPerMin & redGoldDiff: correlation = 0.80\n",
      "redAssists & blueDeaths: correlation = 0.80\n",
      "redAssists & redKills: correlation = 0.80\n",
      "blueExperienceDiff & blueTotalExperience: correlation = 0.80\n",
      "redExperienceDiff & blueTotalExperience: correlation = 0.80\n",
      "redTotalExperience & blueExperienceDiff: correlation = 0.80\n",
      "redExperienceDiff & redTotalExperience: correlation = 0.80\n"
     ]
    }
   ],
   "source": [
    "\n",
    "corr_matrix = X.corr().abs()  # use absolute values for magnitude\n",
    "\n",
    "\n",
    "upper = corr_matrix.where(np.triu(np.ones(corr_matrix.shape), k=1).astype(bool))\n",
    "\n",
    "# Find feature pairs with correlation > 0.8\n",
    "high_corr_pairs = [(col, row, upper.loc[row, col]) \n",
    "                   for col in upper.columns \n",
    "                   for row in upper.index \n",
    "                   if upper.loc[row, col] > 0.8]\n",
    "\n",
    "# Sort by correlation descending\n",
    "high_corr_pairs = sorted(high_corr_pairs, key=lambda x: x[2], reverse=True)\n",
    "\n",
    "# Print top correlated pairs\n",
    "for pair in high_corr_pairs:\n",
    "    print(f\"{pair[0]} & {pair[1]}: correlation = {pair[2]:.2f}\")\n"
   ]
  },
  {
   "cell_type": "markdown",
   "id": "00cb032d",
   "metadata": {
    "papermill": {
     "duration": 0.009835,
     "end_time": "2025-08-14T18:12:19.806919",
     "exception": false,
     "start_time": "2025-08-14T18:12:19.797084",
     "status": "completed"
    },
    "tags": []
   },
   "source": [
    "What happens here:\n",
    "\n",
    "num_examples → total dataset size.\n",
    "\n",
    "num_train_examples → floor of 70% of total → ensures you don’t exceed the dataset size.\n",
    "\n",
    "num_test_examples → ceil of remaining 30% → ensures all examples are used."
   ]
  },
  {
   "cell_type": "code",
   "execution_count": 15,
   "id": "7c32fac8",
   "metadata": {
    "execution": {
     "iopub.execute_input": "2025-08-14T18:12:19.829291Z",
     "iopub.status.busy": "2025-08-14T18:12:19.828338Z",
     "iopub.status.idle": "2025-08-14T18:12:19.833639Z",
     "shell.execute_reply": "2025-08-14T18:12:19.832870Z"
    },
    "papermill": {
     "duration": 0.018118,
     "end_time": "2025-08-14T18:12:19.835096",
     "exception": false,
     "start_time": "2025-08-14T18:12:19.816978",
     "status": "completed"
    },
    "tags": []
   },
   "outputs": [
    {
     "name": "stdout",
     "output_type": "stream",
     "text": [
      "9879\n",
      "6915\n",
      "2964\n"
     ]
    }
   ],
   "source": [
    "train_test_split = 0.7\n",
    "\n",
    "num_examples = X.shape[0]\n",
    "num_train_examples = int(np.floor(num_examples*train_test_split))\n",
    "num_test_examples = int(np.ceil(num_examples - num_train_examples))\n",
    "\n",
    "print(num_examples)\n",
    "print(num_train_examples)\n",
    "print(num_test_examples)"
   ]
  },
  {
   "cell_type": "markdown",
   "id": "239777df",
   "metadata": {
    "papermill": {
     "duration": 0.010974,
     "end_time": "2025-08-14T18:12:19.857341",
     "exception": false,
     "start_time": "2025-08-14T18:12:19.846367",
     "status": "completed"
    },
    "tags": []
   },
   "source": [
    "### Adam optimizer instance with custom hyperparameters for TensorFlow model.\n",
    "learning_rate=0.001 → typical default value for Adam. \n",
    "\n",
    "beta_1 & beta_2 → control moving averages of gradients; \n",
    "\n",
    "epsilon → prevents numerical instability.\n",
    "\n",
    "amsgrad=False → standard Adam algorithm;"
   ]
  },
  {
   "cell_type": "code",
   "execution_count": 16,
   "id": "3278f103",
   "metadata": {
    "execution": {
     "iopub.execute_input": "2025-08-14T18:12:19.882344Z",
     "iopub.status.busy": "2025-08-14T18:12:19.882006Z",
     "iopub.status.idle": "2025-08-14T18:12:19.925797Z",
     "shell.execute_reply": "2025-08-14T18:12:19.924904Z"
    },
    "papermill": {
     "duration": 0.059166,
     "end_time": "2025-08-14T18:12:19.927863",
     "exception": false,
     "start_time": "2025-08-14T18:12:19.868697",
     "status": "completed"
    },
    "tags": []
   },
   "outputs": [],
   "source": [
    "optimizer = tf.keras.optimizers.Adam(\n",
    "    learning_rate=0.001,\n",
    "    beta_1=0.9,\n",
    "    beta_2=0.999,\n",
    "    epsilon=1e-07,\n",
    "    amsgrad=False,name='Adam')"
   ]
  },
  {
   "cell_type": "markdown",
   "id": "408e8d5a",
   "metadata": {
    "papermill": {
     "duration": 0.010405,
     "end_time": "2025-08-14T18:12:19.949245",
     "exception": false,
     "start_time": "2025-08-14T18:12:19.938840",
     "status": "completed"
    },
    "tags": []
   },
   "source": [
    "## TensorFlow Keras functional API model\n",
    "Input shape (38,) → matches the number of features in your dataset (X.shape[1]).\n",
    "\n",
    "Hidden layers → two Dense layers with 16 neurons each, ReLU activation.\n",
    "\n",
    "Output layer → 2 neurons with softmax, so the model outputs probabilities for 2 classes.\n",
    "\n",
    "Note: Since blueWins is binary (0 or 1), you can also use a single neuron with sigmoid instead of 2 neurons with softmax. Both approaches work.\n",
    "\n",
    "model.summary() → prints a table with each layer, output shape, and number of parameters."
   ]
  },
  {
   "cell_type": "code",
   "execution_count": 17,
   "id": "f417d450",
   "metadata": {
    "execution": {
     "iopub.execute_input": "2025-08-14T18:12:19.972484Z",
     "iopub.status.busy": "2025-08-14T18:12:19.971848Z",
     "iopub.status.idle": "2025-08-14T18:12:20.052104Z",
     "shell.execute_reply": "2025-08-14T18:12:20.051133Z"
    },
    "papermill": {
     "duration": 0.095427,
     "end_time": "2025-08-14T18:12:20.055474",
     "exception": false,
     "start_time": "2025-08-14T18:12:19.960047",
     "status": "completed"
    },
    "tags": []
   },
   "outputs": [
    {
     "name": "stdout",
     "output_type": "stream",
     "text": [
      "Model: \"model\"\n",
      "_________________________________________________________________\n",
      " Layer (type)                Output Shape              Param #   \n",
      "=================================================================\n",
      " input_1 (InputLayer)        [(None, 38)]              0         \n",
      "                                                                 \n",
      " dense (Dense)               (None, 16)                624       \n",
      "                                                                 \n",
      " dense_1 (Dense)             (None, 16)                272       \n",
      "                                                                 \n",
      " dense_2 (Dense)             (None, 2)                 34        \n",
      "                                                                 \n",
      "=================================================================\n",
      "Total params: 930 (3.63 KB)\n",
      "Trainable params: 930 (3.63 KB)\n",
      "Non-trainable params: 0 (0.00 Byte)\n",
      "_________________________________________________________________\n"
     ]
    }
   ],
   "source": [
    "inputs = tf.keras.Input(shape=(38,))\n",
    "x = tf.keras.layers.Dense(16, activation=tf.nn.relu)(inputs)\n",
    "x = tf.keras.layers.Dense(16, activation=tf.nn.relu)(x)\n",
    "\n",
    "outputs = tf.keras.layers.Dense(2, activation=tf.nn.softmax)(x)\n",
    "model = tf.keras.Model(inputs=inputs, outputs=outputs)\n",
    "model.summary()"
   ]
  },
  {
   "cell_type": "markdown",
   "id": "d09e02e1",
   "metadata": {
    "papermill": {
     "duration": 0.011062,
     "end_time": "2025-08-14T18:12:20.077750",
     "exception": false,
     "start_time": "2025-08-14T18:12:20.066688",
     "status": "completed"
    },
    "tags": []
   },
   "source": [
    "Parameter calculations :\n",
    "\n",
    "Dense layer params = (input_features × neurons) + bias\n",
    "\n",
    "dense: (38 × 16) + 16 = 608 + 16 = 624 \n",
    "\n",
    "dense_1: (16 × 16) + 16 = 256 + 16 = 272 \n",
    "\n",
    "dense_2: (16 × 2) + 2 = 32 + 2 = 34 \n",
    "\n",
    "Total params = 624 + 272 + 34 = 930"
   ]
  },
  {
   "cell_type": "markdown",
   "id": "b1052bad",
   "metadata": {
    "papermill": {
     "duration": 0.010726,
     "end_time": "2025-08-14T18:12:20.099651",
     "exception": false,
     "start_time": "2025-08-14T18:12:20.088925",
     "status": "completed"
    },
    "tags": []
   },
   "source": [
    "### custom Adam optimizer and specifying SparseCategoricalCrossentropy as the loss."
   ]
  },
  {
   "cell_type": "markdown",
   "id": "6dec7482",
   "metadata": {
    "papermill": {
     "duration": 0.010877,
     "end_time": "2025-08-14T18:12:20.121625",
     "exception": false,
     "start_time": "2025-08-14T18:12:20.110748",
     "status": "completed"
    },
    "tags": []
   },
   "source": [
    "SparseCategoricalCrossentropy:\n",
    "\n",
    "Use this when your target y consists of integer labels (0, 1, 2, …) instead of one-hot encoded vectors.\n",
    "\n",
    "Matches your current y (0 or 1).\n",
    "\n",
    "Softmax output:\n",
    "\n",
    "You have 2 neurons in the last layer, so SparseCategoricalCrossentropy is appropriate."
   ]
  },
  {
   "cell_type": "code",
   "execution_count": 18,
   "id": "8c039bce",
   "metadata": {
    "execution": {
     "iopub.execute_input": "2025-08-14T18:12:20.144914Z",
     "iopub.status.busy": "2025-08-14T18:12:20.144315Z",
     "iopub.status.idle": "2025-08-14T18:12:20.156957Z",
     "shell.execute_reply": "2025-08-14T18:12:20.156379Z"
    },
    "papermill": {
     "duration": 0.025692,
     "end_time": "2025-08-14T18:12:20.158290",
     "exception": false,
     "start_time": "2025-08-14T18:12:20.132598",
     "status": "completed"
    },
    "tags": []
   },
   "outputs": [],
   "source": [
    "model.compile(\n",
    "    optimizer=optimizer,\n",
    "    loss=tf.keras.losses.SparseCategoricalCrossentropy(),\n",
    "    metrics=['accuracy'],\n",
    "    loss_weights=None,\n",
    "    weighted_metrics=None,\n",
    "    run_eagerly=None,\n",
    "    steps_per_execution=None,\n",
    "    jit_compile=None,\n",
    "    pss_evaluation_shards=0,\n",
    "    \n",
    ")"
   ]
  },
  {
   "cell_type": "markdown",
   "id": "6eaf1737",
   "metadata": {
    "papermill": {
     "duration": 0.010613,
     "end_time": "2025-08-14T18:12:20.180038",
     "exception": false,
     "start_time": "2025-08-14T18:12:20.169425",
     "status": "completed"
    },
    "tags": []
   },
   "source": [
    "### proportion of games where the blue team won.\n",
    "y.sum() → adds up all values in y (since blueWins is 0 or 1, this counts total blue wins).\n",
    "\n",
    "num_examples → total number of rows in the dataset.\n",
    "\n",
    "The division gives the win rate of the blue team as a fraction between 0 and 1.\n"
   ]
  },
  {
   "cell_type": "code",
   "execution_count": 19,
   "id": "dcfd86c4",
   "metadata": {
    "execution": {
     "iopub.execute_input": "2025-08-14T18:12:20.203232Z",
     "iopub.status.busy": "2025-08-14T18:12:20.202954Z",
     "iopub.status.idle": "2025-08-14T18:12:20.208407Z",
     "shell.execute_reply": "2025-08-14T18:12:20.207510Z"
    },
    "papermill": {
     "duration": 0.018925,
     "end_time": "2025-08-14T18:12:20.210091",
     "exception": false,
     "start_time": "2025-08-14T18:12:20.191166",
     "status": "completed"
    },
    "tags": []
   },
   "outputs": [
    {
     "data": {
      "text/plain": [
       "0.4990383642069035"
      ]
     },
     "execution_count": 19,
     "metadata": {},
     "output_type": "execute_result"
    }
   ],
   "source": [
    "y.sum()/num_examples"
   ]
  },
  {
   "cell_type": "markdown",
   "id": "313632b7",
   "metadata": {
    "papermill": {
     "duration": 0.011524,
     "end_time": "2025-08-14T18:12:20.237240",
     "exception": false,
     "start_time": "2025-08-14T18:12:20.225716",
     "status": "completed"
    },
    "tags": []
   },
   "source": [
    "### Training & Test sets.\n",
    "iloc → selects rows and columns by integer position.\n",
    "\n",
    "0:num_train_examples → slices the first portion of the dataset for training.\n",
    "\n",
    "num_train_examples:num_examples → slices the remaining rows for testing."
   ]
  },
  {
   "cell_type": "code",
   "execution_count": 20,
   "id": "06693c24",
   "metadata": {
    "execution": {
     "iopub.execute_input": "2025-08-14T18:12:20.261776Z",
     "iopub.status.busy": "2025-08-14T18:12:20.261166Z",
     "iopub.status.idle": "2025-08-14T18:12:20.265905Z",
     "shell.execute_reply": "2025-08-14T18:12:20.265230Z"
    },
    "papermill": {
     "duration": 0.018745,
     "end_time": "2025-08-14T18:12:20.267606",
     "exception": false,
     "start_time": "2025-08-14T18:12:20.248861",
     "status": "completed"
    },
    "tags": []
   },
   "outputs": [],
   "source": [
    "X_train = X.iloc[0:num_train_examples, :]\n",
    "y_train = y.iloc[0:num_train_examples]\n",
    "\n",
    "X_test = X.iloc[num_train_examples:num_examples, :]\n",
    "y_test = y.iloc[num_train_examples:num_examples]"
   ]
  },
  {
   "cell_type": "code",
   "execution_count": 21,
   "id": "ef84c228",
   "metadata": {
    "execution": {
     "iopub.execute_input": "2025-08-14T18:12:20.291687Z",
     "iopub.status.busy": "2025-08-14T18:12:20.291395Z",
     "iopub.status.idle": "2025-08-14T18:12:20.306767Z",
     "shell.execute_reply": "2025-08-14T18:12:20.305626Z"
    },
    "papermill": {
     "duration": 0.028848,
     "end_time": "2025-08-14T18:12:20.308224",
     "exception": false,
     "start_time": "2025-08-14T18:12:20.279376",
     "status": "completed"
    },
    "tags": []
   },
   "outputs": [
    {
     "name": "stdout",
     "output_type": "stream",
     "text": [
      "(6915, 38)\n"
     ]
    },
    {
     "data": {
      "text/html": [
       "<div>\n",
       "<style scoped>\n",
       "    .dataframe tbody tr th:only-of-type {\n",
       "        vertical-align: middle;\n",
       "    }\n",
       "\n",
       "    .dataframe tbody tr th {\n",
       "        vertical-align: top;\n",
       "    }\n",
       "\n",
       "    .dataframe thead th {\n",
       "        text-align: right;\n",
       "    }\n",
       "</style>\n",
       "<table border=\"1\" class=\"dataframe\">\n",
       "  <thead>\n",
       "    <tr style=\"text-align: right;\">\n",
       "      <th></th>\n",
       "      <th>blueWardsPlaced</th>\n",
       "      <th>blueWardsDestroyed</th>\n",
       "      <th>blueFirstBlood</th>\n",
       "      <th>blueKills</th>\n",
       "      <th>blueDeaths</th>\n",
       "      <th>blueAssists</th>\n",
       "      <th>blueEliteMonsters</th>\n",
       "      <th>blueDragons</th>\n",
       "      <th>blueHeralds</th>\n",
       "      <th>blueTowersDestroyed</th>\n",
       "      <th>...</th>\n",
       "      <th>redTowersDestroyed</th>\n",
       "      <th>redTotalGold</th>\n",
       "      <th>redAvgLevel</th>\n",
       "      <th>redTotalExperience</th>\n",
       "      <th>redTotalMinionsKilled</th>\n",
       "      <th>redTotalJungleMinionsKilled</th>\n",
       "      <th>redGoldDiff</th>\n",
       "      <th>redExperienceDiff</th>\n",
       "      <th>redCSPerMin</th>\n",
       "      <th>redGoldPerMin</th>\n",
       "    </tr>\n",
       "  </thead>\n",
       "  <tbody>\n",
       "    <tr>\n",
       "      <th>0</th>\n",
       "      <td>15</td>\n",
       "      <td>6</td>\n",
       "      <td>1</td>\n",
       "      <td>6</td>\n",
       "      <td>3</td>\n",
       "      <td>5</td>\n",
       "      <td>1</td>\n",
       "      <td>1</td>\n",
       "      <td>0</td>\n",
       "      <td>0</td>\n",
       "      <td>...</td>\n",
       "      <td>0</td>\n",
       "      <td>15236</td>\n",
       "      <td>6.8</td>\n",
       "      <td>17312</td>\n",
       "      <td>230</td>\n",
       "      <td>52</td>\n",
       "      <td>-1402</td>\n",
       "      <td>-1512</td>\n",
       "      <td>23.0</td>\n",
       "      <td>1523.6</td>\n",
       "    </tr>\n",
       "    <tr>\n",
       "      <th>1</th>\n",
       "      <td>18</td>\n",
       "      <td>4</td>\n",
       "      <td>1</td>\n",
       "      <td>8</td>\n",
       "      <td>1</td>\n",
       "      <td>6</td>\n",
       "      <td>1</td>\n",
       "      <td>0</td>\n",
       "      <td>1</td>\n",
       "      <td>0</td>\n",
       "      <td>...</td>\n",
       "      <td>0</td>\n",
       "      <td>14119</td>\n",
       "      <td>6.6</td>\n",
       "      <td>17037</td>\n",
       "      <td>210</td>\n",
       "      <td>60</td>\n",
       "      <td>-4488</td>\n",
       "      <td>-3191</td>\n",
       "      <td>21.0</td>\n",
       "      <td>1411.9</td>\n",
       "    </tr>\n",
       "    <tr>\n",
       "      <th>2</th>\n",
       "      <td>16</td>\n",
       "      <td>5</td>\n",
       "      <td>0</td>\n",
       "      <td>6</td>\n",
       "      <td>4</td>\n",
       "      <td>7</td>\n",
       "      <td>0</td>\n",
       "      <td>0</td>\n",
       "      <td>0</td>\n",
       "      <td>0</td>\n",
       "      <td>...</td>\n",
       "      <td>0</td>\n",
       "      <td>15067</td>\n",
       "      <td>6.8</td>\n",
       "      <td>17470</td>\n",
       "      <td>213</td>\n",
       "      <td>52</td>\n",
       "      <td>-1552</td>\n",
       "      <td>-1488</td>\n",
       "      <td>21.3</td>\n",
       "      <td>1506.7</td>\n",
       "    </tr>\n",
       "    <tr>\n",
       "      <th>3</th>\n",
       "      <td>18</td>\n",
       "      <td>4</td>\n",
       "      <td>1</td>\n",
       "      <td>5</td>\n",
       "      <td>3</td>\n",
       "      <td>4</td>\n",
       "      <td>0</td>\n",
       "      <td>0</td>\n",
       "      <td>0</td>\n",
       "      <td>0</td>\n",
       "      <td>...</td>\n",
       "      <td>0</td>\n",
       "      <td>15909</td>\n",
       "      <td>7.2</td>\n",
       "      <td>18532</td>\n",
       "      <td>254</td>\n",
       "      <td>53</td>\n",
       "      <td>27</td>\n",
       "      <td>-114</td>\n",
       "      <td>25.4</td>\n",
       "      <td>1590.9</td>\n",
       "    </tr>\n",
       "    <tr>\n",
       "      <th>4</th>\n",
       "      <td>13</td>\n",
       "      <td>1</td>\n",
       "      <td>0</td>\n",
       "      <td>4</td>\n",
       "      <td>6</td>\n",
       "      <td>2</td>\n",
       "      <td>0</td>\n",
       "      <td>0</td>\n",
       "      <td>0</td>\n",
       "      <td>0</td>\n",
       "      <td>...</td>\n",
       "      <td>0</td>\n",
       "      <td>16829</td>\n",
       "      <td>6.8</td>\n",
       "      <td>18389</td>\n",
       "      <td>223</td>\n",
       "      <td>75</td>\n",
       "      <td>2142</td>\n",
       "      <td>1742</td>\n",
       "      <td>22.3</td>\n",
       "      <td>1682.9</td>\n",
       "    </tr>\n",
       "  </tbody>\n",
       "</table>\n",
       "<p>5 rows × 38 columns</p>\n",
       "</div>"
      ],
      "text/plain": [
       "   blueWardsPlaced  blueWardsDestroyed  blueFirstBlood  blueKills  blueDeaths  \\\n",
       "0               15                   6               1          6           3   \n",
       "1               18                   4               1          8           1   \n",
       "2               16                   5               0          6           4   \n",
       "3               18                   4               1          5           3   \n",
       "4               13                   1               0          4           6   \n",
       "\n",
       "   blueAssists  blueEliteMonsters  blueDragons  blueHeralds  \\\n",
       "0            5                  1            1            0   \n",
       "1            6                  1            0            1   \n",
       "2            7                  0            0            0   \n",
       "3            4                  0            0            0   \n",
       "4            2                  0            0            0   \n",
       "\n",
       "   blueTowersDestroyed  ...  redTowersDestroyed  redTotalGold  redAvgLevel  \\\n",
       "0                    0  ...                   0         15236          6.8   \n",
       "1                    0  ...                   0         14119          6.6   \n",
       "2                    0  ...                   0         15067          6.8   \n",
       "3                    0  ...                   0         15909          7.2   \n",
       "4                    0  ...                   0         16829          6.8   \n",
       "\n",
       "   redTotalExperience  redTotalMinionsKilled  redTotalJungleMinionsKilled  \\\n",
       "0               17312                    230                           52   \n",
       "1               17037                    210                           60   \n",
       "2               17470                    213                           52   \n",
       "3               18532                    254                           53   \n",
       "4               18389                    223                           75   \n",
       "\n",
       "   redGoldDiff  redExperienceDiff  redCSPerMin  redGoldPerMin  \n",
       "0        -1402              -1512         23.0         1523.6  \n",
       "1        -4488              -3191         21.0         1411.9  \n",
       "2        -1552              -1488         21.3         1506.7  \n",
       "3           27               -114         25.4         1590.9  \n",
       "4         2142               1742         22.3         1682.9  \n",
       "\n",
       "[5 rows x 38 columns]"
      ]
     },
     "execution_count": 21,
     "metadata": {},
     "output_type": "execute_result"
    }
   ],
   "source": [
    "print(X_train.shape)\n",
    "X_train.head()"
   ]
  },
  {
   "cell_type": "markdown",
   "id": "c33f2661",
   "metadata": {
    "papermill": {
     "duration": 0.014367,
     "end_time": "2025-08-14T18:12:20.335189",
     "exception": false,
     "start_time": "2025-08-14T18:12:20.320822",
     "status": "completed"
    },
    "tags": []
   },
   "source": [
    "batch size:\n",
    "\n",
    "Number of samples processed before the model updates weights.\n",
    "\n",
    "Epochs:\n",
    "\n",
    "Number of times the entire training dataset will pass through the model."
   ]
  },
  {
   "cell_type": "code",
   "execution_count": 22,
   "id": "2b6ae70c",
   "metadata": {
    "execution": {
     "iopub.execute_input": "2025-08-14T18:12:20.368760Z",
     "iopub.status.busy": "2025-08-14T18:12:20.367893Z",
     "iopub.status.idle": "2025-08-14T18:12:20.373083Z",
     "shell.execute_reply": "2025-08-14T18:12:20.371890Z"
    },
    "papermill": {
     "duration": 0.024257,
     "end_time": "2025-08-14T18:12:20.375042",
     "exception": false,
     "start_time": "2025-08-14T18:12:20.350785",
     "status": "completed"
    },
    "tags": []
   },
   "outputs": [],
   "source": [
    "batch_size= 32\n",
    "epochs = 300"
   ]
  },
  {
   "cell_type": "markdown",
   "id": "b6daedbe",
   "metadata": {
    "papermill": {
     "duration": 0.015408,
     "end_time": "2025-08-14T18:12:20.406219",
     "exception": false,
     "start_time": "2025-08-14T18:12:20.390811",
     "status": "completed"
    },
    "tags": []
   },
   "source": [
    "### TensorFlow functional API model"
   ]
  },
  {
   "cell_type": "markdown",
   "id": "a502da2f",
   "metadata": {
    "papermill": {
     "duration": 0.011973,
     "end_time": "2025-08-14T18:12:20.432119",
     "exception": false,
     "start_time": "2025-08-14T18:12:20.420146",
     "status": "completed"
    },
    "tags": []
   },
   "source": [
    "validation_split=0.2 → 20% of X_train will be used as a validation set for monitoring performance.\n",
    "\n",
    "shuffle=True → data is shuffled each epoch for better generalization.\n",
    "\n",
    "verbose='auto' → displays training progress automatically."
   ]
  },
  {
   "cell_type": "code",
   "execution_count": 23,
   "id": "59e80c68",
   "metadata": {
    "_kg_hide-input": false,
    "execution": {
     "iopub.execute_input": "2025-08-14T18:12:20.457300Z",
     "iopub.status.busy": "2025-08-14T18:12:20.456973Z",
     "iopub.status.idle": "2025-08-14T18:13:46.522442Z",
     "shell.execute_reply": "2025-08-14T18:13:46.521233Z"
    },
    "papermill": {
     "duration": 86.080674,
     "end_time": "2025-08-14T18:13:46.524458",
     "exception": false,
     "start_time": "2025-08-14T18:12:20.443784",
     "status": "completed"
    },
    "scrolled": true,
    "tags": []
   },
   "outputs": [
    {
     "name": "stdout",
     "output_type": "stream",
     "text": [
      "Epoch 1/300\n",
      "173/173 [==============================] - 1s 2ms/step - loss: 151.1718 - accuracy: 0.6448 - val_loss: 17.0762 - val_accuracy: 0.6283\n",
      "Epoch 2/300\n",
      "173/173 [==============================] - 0s 2ms/step - loss: 14.0878 - accuracy: 0.6365 - val_loss: 18.3047 - val_accuracy: 0.6847\n",
      "Epoch 3/300\n",
      "173/173 [==============================] - 0s 2ms/step - loss: 12.4764 - accuracy: 0.6441 - val_loss: 10.1131 - val_accuracy: 0.5871\n",
      "Epoch 4/300\n",
      "173/173 [==============================] - 0s 2ms/step - loss: 10.9071 - accuracy: 0.6452 - val_loss: 23.2072 - val_accuracy: 0.6276\n",
      "Epoch 5/300\n",
      "173/173 [==============================] - 0s 1ms/step - loss: 10.8401 - accuracy: 0.6314 - val_loss: 11.6708 - val_accuracy: 0.7310\n",
      "Epoch 6/300\n",
      "173/173 [==============================] - 0s 2ms/step - loss: 8.7228 - accuracy: 0.6410 - val_loss: 7.7785 - val_accuracy: 0.7050\n",
      "Epoch 7/300\n",
      "173/173 [==============================] - 0s 2ms/step - loss: 8.8672 - accuracy: 0.6475 - val_loss: 6.2238 - val_accuracy: 0.7260\n",
      "Epoch 8/300\n",
      "173/173 [==============================] - 0s 2ms/step - loss: 10.4713 - accuracy: 0.6352 - val_loss: 13.3767 - val_accuracy: 0.6970\n",
      "Epoch 9/300\n",
      "173/173 [==============================] - 0s 2ms/step - loss: 11.2008 - accuracy: 0.6540 - val_loss: 16.1853 - val_accuracy: 0.6725\n",
      "Epoch 10/300\n",
      "173/173 [==============================] - 0s 2ms/step - loss: 11.4771 - accuracy: 0.6350 - val_loss: 5.2580 - val_accuracy: 0.6978\n",
      "Epoch 11/300\n",
      "173/173 [==============================] - 0s 2ms/step - loss: 7.6259 - accuracy: 0.6452 - val_loss: 6.1943 - val_accuracy: 0.7180\n",
      "Epoch 12/300\n",
      "173/173 [==============================] - 0s 2ms/step - loss: 7.8658 - accuracy: 0.6412 - val_loss: 13.9408 - val_accuracy: 0.5163\n",
      "Epoch 13/300\n",
      "173/173 [==============================] - 0s 2ms/step - loss: 11.4086 - accuracy: 0.6491 - val_loss: 3.6741 - val_accuracy: 0.7267\n",
      "Epoch 14/300\n",
      "173/173 [==============================] - 0s 2ms/step - loss: 8.3610 - accuracy: 0.6363 - val_loss: 1.9091 - val_accuracy: 0.6320\n",
      "Epoch 15/300\n",
      "173/173 [==============================] - 0s 1ms/step - loss: 6.6261 - accuracy: 0.6426 - val_loss: 1.6138 - val_accuracy: 0.6956\n",
      "Epoch 16/300\n",
      "173/173 [==============================] - 0s 2ms/step - loss: 6.1963 - accuracy: 0.6437 - val_loss: 6.1636 - val_accuracy: 0.7137\n",
      "Epoch 17/300\n",
      "173/173 [==============================] - 0s 1ms/step - loss: 6.6556 - accuracy: 0.6518 - val_loss: 5.6388 - val_accuracy: 0.7252\n",
      "Epoch 18/300\n",
      "173/173 [==============================] - 0s 2ms/step - loss: 7.6673 - accuracy: 0.6385 - val_loss: 5.6209 - val_accuracy: 0.5098\n",
      "Epoch 19/300\n",
      "173/173 [==============================] - 0s 2ms/step - loss: 6.0101 - accuracy: 0.6446 - val_loss: 6.9003 - val_accuracy: 0.7317\n",
      "Epoch 20/300\n",
      "173/173 [==============================] - 0s 2ms/step - loss: 7.0770 - accuracy: 0.6506 - val_loss: 2.4451 - val_accuracy: 0.6999\n",
      "Epoch 21/300\n",
      "173/173 [==============================] - 0s 2ms/step - loss: 7.0590 - accuracy: 0.6401 - val_loss: 5.9097 - val_accuracy: 0.6898\n",
      "Epoch 22/300\n",
      "173/173 [==============================] - 0s 2ms/step - loss: 5.7610 - accuracy: 0.6452 - val_loss: 6.8502 - val_accuracy: 0.6927\n",
      "Epoch 23/300\n",
      "173/173 [==============================] - 0s 2ms/step - loss: 6.4161 - accuracy: 0.6529 - val_loss: 5.6767 - val_accuracy: 0.7180\n",
      "Epoch 24/300\n",
      "173/173 [==============================] - 0s 2ms/step - loss: 7.1621 - accuracy: 0.6388 - val_loss: 3.7954 - val_accuracy: 0.5322\n",
      "Epoch 25/300\n",
      "173/173 [==============================] - 0s 2ms/step - loss: 6.6521 - accuracy: 0.6367 - val_loss: 9.2915 - val_accuracy: 0.5119\n",
      "Epoch 26/300\n",
      "173/173 [==============================] - 0s 2ms/step - loss: 5.8080 - accuracy: 0.6556 - val_loss: 11.6759 - val_accuracy: 0.6218\n",
      "Epoch 27/300\n",
      "173/173 [==============================] - 0s 1ms/step - loss: 5.6232 - accuracy: 0.6430 - val_loss: 2.5136 - val_accuracy: 0.5806\n",
      "Epoch 28/300\n",
      "173/173 [==============================] - 0s 2ms/step - loss: 5.3750 - accuracy: 0.6446 - val_loss: 7.3802 - val_accuracy: 0.5177\n",
      "Epoch 29/300\n",
      "173/173 [==============================] - 0s 2ms/step - loss: 5.9258 - accuracy: 0.6495 - val_loss: 3.8243 - val_accuracy: 0.3601\n",
      "Epoch 30/300\n",
      "173/173 [==============================] - 0s 2ms/step - loss: 4.8329 - accuracy: 0.6455 - val_loss: 4.8130 - val_accuracy: 0.6110\n",
      "Epoch 31/300\n",
      "173/173 [==============================] - 0s 2ms/step - loss: 4.9438 - accuracy: 0.6531 - val_loss: 4.7112 - val_accuracy: 0.5206\n",
      "Epoch 32/300\n",
      "173/173 [==============================] - 0s 2ms/step - loss: 5.2304 - accuracy: 0.6394 - val_loss: 2.2604 - val_accuracy: 0.6283\n",
      "Epoch 33/300\n",
      "173/173 [==============================] - 0s 2ms/step - loss: 6.5714 - accuracy: 0.6462 - val_loss: 5.5489 - val_accuracy: 0.6978\n",
      "Epoch 34/300\n",
      "173/173 [==============================] - 0s 2ms/step - loss: 6.9356 - accuracy: 0.6410 - val_loss: 9.0386 - val_accuracy: 0.6992\n",
      "Epoch 35/300\n",
      "173/173 [==============================] - 0s 2ms/step - loss: 5.4796 - accuracy: 0.6540 - val_loss: 0.9497 - val_accuracy: 0.6797\n",
      "Epoch 36/300\n",
      "173/173 [==============================] - 0s 2ms/step - loss: 6.0986 - accuracy: 0.6495 - val_loss: 2.0923 - val_accuracy: 0.6659\n",
      "Epoch 37/300\n",
      "173/173 [==============================] - 0s 2ms/step - loss: 5.4630 - accuracy: 0.6462 - val_loss: 10.7216 - val_accuracy: 0.6840\n",
      "Epoch 38/300\n",
      "173/173 [==============================] - 0s 2ms/step - loss: 4.3978 - accuracy: 0.6556 - val_loss: 3.6747 - val_accuracy: 0.7173\n",
      "Epoch 39/300\n",
      "173/173 [==============================] - 0s 2ms/step - loss: 4.1318 - accuracy: 0.6426 - val_loss: 2.5255 - val_accuracy: 0.4881\n",
      "Epoch 40/300\n",
      "173/173 [==============================] - 0s 2ms/step - loss: 6.2503 - accuracy: 0.6444 - val_loss: 3.1925 - val_accuracy: 0.7043\n",
      "Epoch 41/300\n",
      "173/173 [==============================] - 0s 2ms/step - loss: 4.7088 - accuracy: 0.6509 - val_loss: 2.5351 - val_accuracy: 0.5560\n",
      "Epoch 42/300\n",
      "173/173 [==============================] - 0s 1ms/step - loss: 4.5159 - accuracy: 0.6502 - val_loss: 3.4132 - val_accuracy: 0.6457\n",
      "Epoch 43/300\n",
      "173/173 [==============================] - 0s 2ms/step - loss: 4.0952 - accuracy: 0.6520 - val_loss: 3.2911 - val_accuracy: 0.6905\n",
      "Epoch 44/300\n",
      "173/173 [==============================] - 0s 2ms/step - loss: 4.4088 - accuracy: 0.6462 - val_loss: 12.2442 - val_accuracy: 0.6168\n",
      "Epoch 45/300\n",
      "173/173 [==============================] - 0s 2ms/step - loss: 5.1251 - accuracy: 0.6426 - val_loss: 2.0262 - val_accuracy: 0.5293\n",
      "Epoch 46/300\n",
      "173/173 [==============================] - 0s 2ms/step - loss: 3.6462 - accuracy: 0.6506 - val_loss: 2.1429 - val_accuracy: 0.7317\n",
      "Epoch 47/300\n",
      "173/173 [==============================] - 0s 2ms/step - loss: 4.5700 - accuracy: 0.6513 - val_loss: 6.0157 - val_accuracy: 0.7332\n",
      "Epoch 48/300\n",
      "173/173 [==============================] - 0s 2ms/step - loss: 3.9601 - accuracy: 0.6551 - val_loss: 3.4216 - val_accuracy: 0.7325\n",
      "Epoch 49/300\n",
      "173/173 [==============================] - 0s 2ms/step - loss: 4.6513 - accuracy: 0.6383 - val_loss: 4.3823 - val_accuracy: 0.7303\n",
      "Epoch 50/300\n",
      "173/173 [==============================] - 0s 2ms/step - loss: 4.9132 - accuracy: 0.6430 - val_loss: 2.1910 - val_accuracy: 0.7064\n",
      "Epoch 51/300\n",
      "173/173 [==============================] - 0s 2ms/step - loss: 3.2293 - accuracy: 0.6428 - val_loss: 2.0079 - val_accuracy: 0.6580\n",
      "Epoch 52/300\n",
      "173/173 [==============================] - 0s 2ms/step - loss: 4.2679 - accuracy: 0.6479 - val_loss: 3.6040 - val_accuracy: 0.5495\n",
      "Epoch 53/300\n",
      "173/173 [==============================] - 0s 2ms/step - loss: 4.1885 - accuracy: 0.6450 - val_loss: 3.1725 - val_accuracy: 0.6782\n",
      "Epoch 54/300\n",
      "173/173 [==============================] - 0s 2ms/step - loss: 3.7012 - accuracy: 0.6500 - val_loss: 4.5314 - val_accuracy: 0.6045\n",
      "Epoch 55/300\n",
      "173/173 [==============================] - 0s 2ms/step - loss: 4.2191 - accuracy: 0.6564 - val_loss: 2.6559 - val_accuracy: 0.7035\n",
      "Epoch 56/300\n",
      "173/173 [==============================] - 0s 1ms/step - loss: 4.3196 - accuracy: 0.6500 - val_loss: 4.1494 - val_accuracy: 0.7332\n",
      "Epoch 57/300\n",
      "173/173 [==============================] - 0s 2ms/step - loss: 3.0616 - accuracy: 0.6504 - val_loss: 2.0333 - val_accuracy: 0.7231\n",
      "Epoch 58/300\n",
      "173/173 [==============================] - 0s 1ms/step - loss: 3.1103 - accuracy: 0.6502 - val_loss: 0.8712 - val_accuracy: 0.7115\n",
      "Epoch 59/300\n",
      "173/173 [==============================] - 0s 2ms/step - loss: 4.6446 - accuracy: 0.6452 - val_loss: 1.6876 - val_accuracy: 0.7281\n",
      "Epoch 60/300\n",
      "173/173 [==============================] - 0s 2ms/step - loss: 3.4482 - accuracy: 0.6533 - val_loss: 1.8049 - val_accuracy: 0.5423\n",
      "Epoch 61/300\n",
      "173/173 [==============================] - 0s 1ms/step - loss: 3.5779 - accuracy: 0.6428 - val_loss: 3.1639 - val_accuracy: 0.7281\n",
      "Epoch 62/300\n",
      "173/173 [==============================] - 0s 2ms/step - loss: 3.5688 - accuracy: 0.6433 - val_loss: 5.0418 - val_accuracy: 0.6703\n",
      "Epoch 63/300\n",
      "173/173 [==============================] - 0s 2ms/step - loss: 3.1222 - accuracy: 0.6470 - val_loss: 1.6915 - val_accuracy: 0.5387\n",
      "Epoch 64/300\n",
      "173/173 [==============================] - 0s 2ms/step - loss: 4.4675 - accuracy: 0.6457 - val_loss: 3.8006 - val_accuracy: 0.7144\n",
      "Epoch 65/300\n",
      "173/173 [==============================] - 0s 2ms/step - loss: 3.0928 - accuracy: 0.6470 - val_loss: 1.0126 - val_accuracy: 0.6544\n",
      "Epoch 66/300\n",
      "173/173 [==============================] - 0s 2ms/step - loss: 4.9013 - accuracy: 0.6540 - val_loss: 2.5447 - val_accuracy: 0.7129\n",
      "Epoch 67/300\n",
      "173/173 [==============================] - 0s 2ms/step - loss: 3.3137 - accuracy: 0.6480 - val_loss: 2.6716 - val_accuracy: 0.5394\n",
      "Epoch 68/300\n",
      "173/173 [==============================] - 0s 2ms/step - loss: 2.6159 - accuracy: 0.6509 - val_loss: 2.8382 - val_accuracy: 0.6269\n",
      "Epoch 69/300\n",
      "173/173 [==============================] - 0s 2ms/step - loss: 2.5942 - accuracy: 0.6490 - val_loss: 2.3046 - val_accuracy: 0.7303\n",
      "Epoch 70/300\n",
      "173/173 [==============================] - 0s 2ms/step - loss: 2.4330 - accuracy: 0.6509 - val_loss: 1.3329 - val_accuracy: 0.6392\n",
      "Epoch 71/300\n",
      "173/173 [==============================] - 0s 2ms/step - loss: 2.5466 - accuracy: 0.6477 - val_loss: 1.3238 - val_accuracy: 0.6161\n",
      "Epoch 72/300\n",
      "173/173 [==============================] - 0s 2ms/step - loss: 2.6594 - accuracy: 0.6526 - val_loss: 1.8177 - val_accuracy: 0.7231\n",
      "Epoch 73/300\n",
      "173/173 [==============================] - 0s 2ms/step - loss: 2.9589 - accuracy: 0.6499 - val_loss: 6.5688 - val_accuracy: 0.6081\n",
      "Epoch 74/300\n",
      "173/173 [==============================] - 0s 2ms/step - loss: 3.5535 - accuracy: 0.6403 - val_loss: 0.8783 - val_accuracy: 0.6435\n",
      "Epoch 75/300\n",
      "173/173 [==============================] - 0s 2ms/step - loss: 2.6979 - accuracy: 0.6477 - val_loss: 4.7404 - val_accuracy: 0.7064\n",
      "Epoch 76/300\n",
      "173/173 [==============================] - 0s 2ms/step - loss: 3.0766 - accuracy: 0.6441 - val_loss: 2.1852 - val_accuracy: 0.6847\n",
      "Epoch 77/300\n",
      "173/173 [==============================] - 0s 2ms/step - loss: 2.9573 - accuracy: 0.6491 - val_loss: 1.4543 - val_accuracy: 0.7093\n",
      "Epoch 78/300\n",
      "173/173 [==============================] - 0s 2ms/step - loss: 2.9258 - accuracy: 0.6461 - val_loss: 1.9784 - val_accuracy: 0.6884\n",
      "Epoch 79/300\n",
      "173/173 [==============================] - 0s 2ms/step - loss: 2.5625 - accuracy: 0.6538 - val_loss: 2.3577 - val_accuracy: 0.7303\n",
      "Epoch 80/300\n",
      "173/173 [==============================] - 0s 2ms/step - loss: 2.3248 - accuracy: 0.6475 - val_loss: 2.8498 - val_accuracy: 0.6016\n",
      "Epoch 81/300\n",
      "173/173 [==============================] - 0s 2ms/step - loss: 3.2549 - accuracy: 0.6455 - val_loss: 1.9998 - val_accuracy: 0.7223\n",
      "Epoch 82/300\n",
      "173/173 [==============================] - 0s 2ms/step - loss: 2.5686 - accuracy: 0.6471 - val_loss: 1.3360 - val_accuracy: 0.7303\n",
      "Epoch 83/300\n",
      "173/173 [==============================] - 0s 2ms/step - loss: 2.6391 - accuracy: 0.6414 - val_loss: 1.6148 - val_accuracy: 0.7231\n",
      "Epoch 84/300\n",
      "173/173 [==============================] - 0s 2ms/step - loss: 2.1532 - accuracy: 0.6522 - val_loss: 3.2443 - val_accuracy: 0.6334\n",
      "Epoch 85/300\n",
      "173/173 [==============================] - 0s 2ms/step - loss: 2.5169 - accuracy: 0.6513 - val_loss: 0.7220 - val_accuracy: 0.7166\n",
      "Epoch 86/300\n",
      "173/173 [==============================] - 0s 2ms/step - loss: 2.8718 - accuracy: 0.6406 - val_loss: 2.3926 - val_accuracy: 0.7072\n",
      "Epoch 87/300\n",
      "173/173 [==============================] - 0s 2ms/step - loss: 2.7584 - accuracy: 0.6538 - val_loss: 4.3600 - val_accuracy: 0.5531\n",
      "Epoch 88/300\n",
      "173/173 [==============================] - 0s 2ms/step - loss: 2.2061 - accuracy: 0.6365 - val_loss: 4.1119 - val_accuracy: 0.6522\n",
      "Epoch 89/300\n",
      "173/173 [==============================] - 0s 2ms/step - loss: 2.0481 - accuracy: 0.6490 - val_loss: 1.2666 - val_accuracy: 0.7289\n",
      "Epoch 90/300\n",
      "173/173 [==============================] - 0s 2ms/step - loss: 2.7851 - accuracy: 0.6410 - val_loss: 4.4140 - val_accuracy: 0.5315\n",
      "Epoch 91/300\n",
      "173/173 [==============================] - 0s 2ms/step - loss: 1.9501 - accuracy: 0.6540 - val_loss: 0.9040 - val_accuracy: 0.7260\n",
      "Epoch 92/300\n",
      "173/173 [==============================] - 0s 2ms/step - loss: 2.2222 - accuracy: 0.6415 - val_loss: 3.6526 - val_accuracy: 0.6768\n",
      "Epoch 93/300\n",
      "173/173 [==============================] - 0s 2ms/step - loss: 2.4921 - accuracy: 0.6466 - val_loss: 2.6498 - val_accuracy: 0.7303\n",
      "Epoch 94/300\n",
      "173/173 [==============================] - 0s 2ms/step - loss: 1.8691 - accuracy: 0.6480 - val_loss: 2.8654 - val_accuracy: 0.4989\n",
      "Epoch 95/300\n",
      "173/173 [==============================] - 0s 2ms/step - loss: 2.1264 - accuracy: 0.6495 - val_loss: 4.6215 - val_accuracy: 0.6385\n",
      "Epoch 96/300\n",
      "173/173 [==============================] - 0s 2ms/step - loss: 1.7980 - accuracy: 0.6524 - val_loss: 1.1451 - val_accuracy: 0.6645\n",
      "Epoch 97/300\n",
      "173/173 [==============================] - 0s 2ms/step - loss: 1.4458 - accuracy: 0.6439 - val_loss: 0.8157 - val_accuracy: 0.7281\n",
      "Epoch 98/300\n",
      "173/173 [==============================] - 0s 2ms/step - loss: 2.3337 - accuracy: 0.6443 - val_loss: 1.2079 - val_accuracy: 0.7050\n",
      "Epoch 99/300\n",
      "173/173 [==============================] - 0s 2ms/step - loss: 1.5822 - accuracy: 0.6555 - val_loss: 0.9613 - val_accuracy: 0.6645\n",
      "Epoch 100/300\n",
      "173/173 [==============================] - 0s 2ms/step - loss: 2.0565 - accuracy: 0.6405 - val_loss: 0.6811 - val_accuracy: 0.6963\n",
      "Epoch 101/300\n",
      "173/173 [==============================] - 0s 2ms/step - loss: 2.4942 - accuracy: 0.6479 - val_loss: 2.2092 - val_accuracy: 0.6659\n",
      "Epoch 102/300\n",
      "173/173 [==============================] - 0s 2ms/step - loss: 1.7017 - accuracy: 0.6414 - val_loss: 1.3031 - val_accuracy: 0.6269\n",
      "Epoch 103/300\n",
      "173/173 [==============================] - 0s 2ms/step - loss: 1.6293 - accuracy: 0.6574 - val_loss: 1.0529 - val_accuracy: 0.7187\n",
      "Epoch 104/300\n",
      "173/173 [==============================] - 0s 2ms/step - loss: 1.6459 - accuracy: 0.6605 - val_loss: 0.9461 - val_accuracy: 0.6182\n",
      "Epoch 105/300\n",
      "173/173 [==============================] - 0s 2ms/step - loss: 1.7347 - accuracy: 0.6515 - val_loss: 1.9134 - val_accuracy: 0.7390\n",
      "Epoch 106/300\n",
      "173/173 [==============================] - 0s 2ms/step - loss: 1.6043 - accuracy: 0.6479 - val_loss: 1.1731 - val_accuracy: 0.5864\n",
      "Epoch 107/300\n",
      "173/173 [==============================] - 0s 2ms/step - loss: 1.6685 - accuracy: 0.6540 - val_loss: 1.3339 - val_accuracy: 0.7122\n",
      "Epoch 108/300\n",
      "173/173 [==============================] - 0s 2ms/step - loss: 1.5831 - accuracy: 0.6537 - val_loss: 2.0198 - val_accuracy: 0.5416\n",
      "Epoch 109/300\n",
      "173/173 [==============================] - 0s 2ms/step - loss: 1.8659 - accuracy: 0.6403 - val_loss: 2.6238 - val_accuracy: 0.6978\n",
      "Epoch 110/300\n",
      "173/173 [==============================] - 0s 2ms/step - loss: 2.1300 - accuracy: 0.6546 - val_loss: 1.1970 - val_accuracy: 0.7238\n",
      "Epoch 111/300\n",
      "173/173 [==============================] - 0s 2ms/step - loss: 1.5819 - accuracy: 0.6499 - val_loss: 0.7866 - val_accuracy: 0.7035\n",
      "Epoch 112/300\n",
      "173/173 [==============================] - 0s 2ms/step - loss: 1.9798 - accuracy: 0.6426 - val_loss: 0.8732 - val_accuracy: 0.7325\n",
      "Epoch 113/300\n",
      "173/173 [==============================] - 0s 2ms/step - loss: 1.5219 - accuracy: 0.6538 - val_loss: 0.7242 - val_accuracy: 0.7245\n",
      "Epoch 114/300\n",
      "173/173 [==============================] - 0s 2ms/step - loss: 1.7063 - accuracy: 0.6546 - val_loss: 1.6297 - val_accuracy: 0.5192\n",
      "Epoch 115/300\n",
      "173/173 [==============================] - 0s 2ms/step - loss: 1.2696 - accuracy: 0.6594 - val_loss: 1.2438 - val_accuracy: 0.5582\n",
      "Epoch 116/300\n",
      "173/173 [==============================] - 0s 2ms/step - loss: 1.3813 - accuracy: 0.6484 - val_loss: 1.5744 - val_accuracy: 0.6609\n",
      "Epoch 117/300\n",
      "173/173 [==============================] - 0s 2ms/step - loss: 1.8607 - accuracy: 0.6457 - val_loss: 1.3135 - val_accuracy: 0.5936\n",
      "Epoch 118/300\n",
      "173/173 [==============================] - 0s 2ms/step - loss: 1.4028 - accuracy: 0.6593 - val_loss: 1.5378 - val_accuracy: 0.6920\n",
      "Epoch 119/300\n",
      "173/173 [==============================] - 0s 2ms/step - loss: 1.1272 - accuracy: 0.6509 - val_loss: 1.8613 - val_accuracy: 0.6312\n",
      "Epoch 120/300\n",
      "173/173 [==============================] - 0s 2ms/step - loss: 1.3928 - accuracy: 0.6593 - val_loss: 1.1928 - val_accuracy: 0.6659\n",
      "Epoch 121/300\n",
      "173/173 [==============================] - 0s 2ms/step - loss: 1.6693 - accuracy: 0.6464 - val_loss: 2.2256 - val_accuracy: 0.5481\n",
      "Epoch 122/300\n",
      "173/173 [==============================] - 0s 2ms/step - loss: 1.4922 - accuracy: 0.6482 - val_loss: 4.7128 - val_accuracy: 0.5199\n",
      "Epoch 123/300\n",
      "173/173 [==============================] - 0s 2ms/step - loss: 1.6436 - accuracy: 0.6468 - val_loss: 1.6869 - val_accuracy: 0.6392\n",
      "Epoch 124/300\n",
      "173/173 [==============================] - 0s 2ms/step - loss: 1.3485 - accuracy: 0.6455 - val_loss: 0.6173 - val_accuracy: 0.7274\n",
      "Epoch 125/300\n",
      "173/173 [==============================] - 0s 2ms/step - loss: 1.2239 - accuracy: 0.6558 - val_loss: 0.9354 - val_accuracy: 0.7310\n",
      "Epoch 126/300\n",
      "173/173 [==============================] - 0s 2ms/step - loss: 0.9519 - accuracy: 0.6645 - val_loss: 1.2830 - val_accuracy: 0.5741\n",
      "Epoch 127/300\n",
      "173/173 [==============================] - 0s 2ms/step - loss: 1.4615 - accuracy: 0.6493 - val_loss: 0.9702 - val_accuracy: 0.6826\n",
      "Epoch 128/300\n",
      "173/173 [==============================] - 0s 2ms/step - loss: 1.3015 - accuracy: 0.6661 - val_loss: 0.5578 - val_accuracy: 0.7187\n",
      "Epoch 129/300\n",
      "173/173 [==============================] - 0s 2ms/step - loss: 1.0002 - accuracy: 0.6688 - val_loss: 3.3418 - val_accuracy: 0.5061\n",
      "Epoch 130/300\n",
      "173/173 [==============================] - 0s 2ms/step - loss: 1.4689 - accuracy: 0.6506 - val_loss: 0.8189 - val_accuracy: 0.6363\n",
      "Epoch 131/300\n",
      "173/173 [==============================] - 0s 2ms/step - loss: 1.6452 - accuracy: 0.6311 - val_loss: 1.5767 - val_accuracy: 0.5864\n",
      "Epoch 132/300\n",
      "173/173 [==============================] - 0s 2ms/step - loss: 1.1431 - accuracy: 0.6584 - val_loss: 1.1055 - val_accuracy: 0.6240\n",
      "Epoch 133/300\n",
      "173/173 [==============================] - 0s 2ms/step - loss: 1.1606 - accuracy: 0.6609 - val_loss: 1.2956 - val_accuracy: 0.5177\n",
      "Epoch 134/300\n",
      "173/173 [==============================] - 0s 2ms/step - loss: 1.0613 - accuracy: 0.6679 - val_loss: 0.8020 - val_accuracy: 0.6211\n",
      "Epoch 135/300\n",
      "173/173 [==============================] - 0s 1ms/step - loss: 1.2201 - accuracy: 0.6520 - val_loss: 0.9092 - val_accuracy: 0.6978\n",
      "Epoch 136/300\n",
      "173/173 [==============================] - 0s 1ms/step - loss: 1.2237 - accuracy: 0.6674 - val_loss: 0.6972 - val_accuracy: 0.7303\n",
      "Epoch 137/300\n",
      "173/173 [==============================] - 0s 2ms/step - loss: 1.3024 - accuracy: 0.6611 - val_loss: 2.3322 - val_accuracy: 0.6124\n",
      "Epoch 138/300\n",
      "173/173 [==============================] - 0s 2ms/step - loss: 1.0624 - accuracy: 0.6618 - val_loss: 0.9064 - val_accuracy: 0.5748\n",
      "Epoch 139/300\n",
      "173/173 [==============================] - 0s 2ms/step - loss: 1.0664 - accuracy: 0.6499 - val_loss: 0.6075 - val_accuracy: 0.7173\n",
      "Epoch 140/300\n",
      "173/173 [==============================] - 0s 2ms/step - loss: 0.8337 - accuracy: 0.6706 - val_loss: 0.8867 - val_accuracy: 0.6045\n",
      "Epoch 141/300\n",
      "173/173 [==============================] - 0s 2ms/step - loss: 1.0632 - accuracy: 0.6631 - val_loss: 0.6098 - val_accuracy: 0.7303\n",
      "Epoch 142/300\n",
      "173/173 [==============================] - 0s 2ms/step - loss: 0.9682 - accuracy: 0.6612 - val_loss: 0.7678 - val_accuracy: 0.4736\n",
      "Epoch 143/300\n",
      "173/173 [==============================] - 0s 2ms/step - loss: 1.2751 - accuracy: 0.6462 - val_loss: 1.1127 - val_accuracy: 0.6804\n",
      "Epoch 144/300\n",
      "173/173 [==============================] - 0s 2ms/step - loss: 1.1382 - accuracy: 0.6614 - val_loss: 0.5797 - val_accuracy: 0.7231\n",
      "Epoch 145/300\n",
      "173/173 [==============================] - 0s 1ms/step - loss: 0.8995 - accuracy: 0.6607 - val_loss: 0.8216 - val_accuracy: 0.6956\n",
      "Epoch 146/300\n",
      "173/173 [==============================] - 0s 2ms/step - loss: 1.1187 - accuracy: 0.6470 - val_loss: 0.8013 - val_accuracy: 0.6847\n",
      "Epoch 147/300\n",
      "173/173 [==============================] - 0s 2ms/step - loss: 1.0754 - accuracy: 0.6585 - val_loss: 0.9697 - val_accuracy: 0.6681\n",
      "Epoch 148/300\n",
      "173/173 [==============================] - 0s 2ms/step - loss: 1.1635 - accuracy: 0.6544 - val_loss: 0.7309 - val_accuracy: 0.5343\n",
      "Epoch 149/300\n",
      "173/173 [==============================] - 0s 2ms/step - loss: 0.9003 - accuracy: 0.6744 - val_loss: 0.6222 - val_accuracy: 0.6450\n",
      "Epoch 150/300\n",
      "173/173 [==============================] - 0s 2ms/step - loss: 0.8249 - accuracy: 0.6681 - val_loss: 0.9238 - val_accuracy: 0.6016\n",
      "Epoch 151/300\n",
      "173/173 [==============================] - 0s 2ms/step - loss: 0.9706 - accuracy: 0.6587 - val_loss: 0.6201 - val_accuracy: 0.7028\n",
      "Epoch 152/300\n",
      "173/173 [==============================] - 0s 2ms/step - loss: 0.8165 - accuracy: 0.6638 - val_loss: 0.8179 - val_accuracy: 0.6855\n",
      "Epoch 153/300\n",
      "173/173 [==============================] - 0s 2ms/step - loss: 0.9524 - accuracy: 0.6555 - val_loss: 1.0869 - val_accuracy: 0.6811\n",
      "Epoch 154/300\n",
      "173/173 [==============================] - 0s 2ms/step - loss: 0.9689 - accuracy: 0.6631 - val_loss: 1.9683 - val_accuracy: 0.5647\n",
      "Epoch 155/300\n",
      "173/173 [==============================] - 0s 2ms/step - loss: 0.8222 - accuracy: 0.6723 - val_loss: 0.5937 - val_accuracy: 0.6826\n",
      "Epoch 156/300\n",
      "173/173 [==============================] - 0s 2ms/step - loss: 0.8371 - accuracy: 0.6574 - val_loss: 0.8846 - val_accuracy: 0.7035\n",
      "Epoch 157/300\n",
      "173/173 [==============================] - 0s 2ms/step - loss: 0.9379 - accuracy: 0.6728 - val_loss: 0.6859 - val_accuracy: 0.6399\n",
      "Epoch 158/300\n",
      "173/173 [==============================] - 0s 2ms/step - loss: 0.8434 - accuracy: 0.6596 - val_loss: 0.5867 - val_accuracy: 0.7390\n",
      "Epoch 159/300\n",
      "173/173 [==============================] - 0s 2ms/step - loss: 0.8620 - accuracy: 0.6591 - val_loss: 0.6415 - val_accuracy: 0.7332\n",
      "Epoch 160/300\n",
      "173/173 [==============================] - 0s 2ms/step - loss: 0.8982 - accuracy: 0.6645 - val_loss: 0.7033 - val_accuracy: 0.6717\n",
      "Epoch 161/300\n",
      "173/173 [==============================] - 0s 2ms/step - loss: 0.9016 - accuracy: 0.6656 - val_loss: 0.6180 - val_accuracy: 0.7332\n",
      "Epoch 162/300\n",
      "173/173 [==============================] - 0s 2ms/step - loss: 0.8739 - accuracy: 0.6696 - val_loss: 0.6832 - val_accuracy: 0.7310\n",
      "Epoch 163/300\n",
      "173/173 [==============================] - 0s 2ms/step - loss: 0.7872 - accuracy: 0.6739 - val_loss: 1.1930 - val_accuracy: 0.5184\n",
      "Epoch 164/300\n",
      "173/173 [==============================] - 0s 2ms/step - loss: 0.8077 - accuracy: 0.6683 - val_loss: 0.6544 - val_accuracy: 0.6262\n",
      "Epoch 165/300\n",
      "173/173 [==============================] - 0s 2ms/step - loss: 0.8018 - accuracy: 0.6611 - val_loss: 0.6053 - val_accuracy: 0.7014\n",
      "Epoch 166/300\n",
      "173/173 [==============================] - 0s 2ms/step - loss: 0.7897 - accuracy: 0.6616 - val_loss: 1.0435 - val_accuracy: 0.5531\n",
      "Epoch 167/300\n",
      "173/173 [==============================] - 0s 2ms/step - loss: 1.4311 - accuracy: 0.6618 - val_loss: 1.1936 - val_accuracy: 0.6392\n",
      "Epoch 168/300\n",
      "173/173 [==============================] - 0s 2ms/step - loss: 0.9050 - accuracy: 0.6625 - val_loss: 0.5516 - val_accuracy: 0.7144\n",
      "Epoch 169/300\n",
      "173/173 [==============================] - 0s 2ms/step - loss: 0.6964 - accuracy: 0.6849 - val_loss: 0.5390 - val_accuracy: 0.7310\n",
      "Epoch 170/300\n",
      "173/173 [==============================] - 0s 2ms/step - loss: 0.8392 - accuracy: 0.6652 - val_loss: 0.7695 - val_accuracy: 0.6862\n",
      "Epoch 171/300\n",
      "173/173 [==============================] - 0s 2ms/step - loss: 0.7328 - accuracy: 0.6735 - val_loss: 0.5635 - val_accuracy: 0.7426\n",
      "Epoch 172/300\n",
      "173/173 [==============================] - 0s 2ms/step - loss: 0.7920 - accuracy: 0.6685 - val_loss: 0.9191 - val_accuracy: 0.6023\n",
      "Epoch 173/300\n",
      "173/173 [==============================] - 0s 2ms/step - loss: 0.7648 - accuracy: 0.6719 - val_loss: 0.6463 - val_accuracy: 0.6688\n",
      "Epoch 174/300\n",
      "173/173 [==============================] - 0s 2ms/step - loss: 0.7653 - accuracy: 0.6755 - val_loss: 1.2659 - val_accuracy: 0.6204\n",
      "Epoch 175/300\n",
      "173/173 [==============================] - 0s 2ms/step - loss: 0.9496 - accuracy: 0.6547 - val_loss: 0.8949 - val_accuracy: 0.6283\n",
      "Epoch 176/300\n",
      "173/173 [==============================] - 0s 2ms/step - loss: 0.7714 - accuracy: 0.6629 - val_loss: 0.5791 - val_accuracy: 0.6956\n",
      "Epoch 177/300\n",
      "173/173 [==============================] - 0s 2ms/step - loss: 0.7093 - accuracy: 0.6777 - val_loss: 0.8016 - val_accuracy: 0.6594\n",
      "Epoch 178/300\n",
      "173/173 [==============================] - 0s 2ms/step - loss: 0.6626 - accuracy: 0.6847 - val_loss: 0.7424 - val_accuracy: 0.6927\n",
      "Epoch 179/300\n",
      "173/173 [==============================] - 0s 2ms/step - loss: 0.7439 - accuracy: 0.6746 - val_loss: 0.5324 - val_accuracy: 0.7325\n",
      "Epoch 180/300\n",
      "173/173 [==============================] - 0s 2ms/step - loss: 0.7159 - accuracy: 0.6831 - val_loss: 0.8660 - val_accuracy: 0.5676\n",
      "Epoch 181/300\n",
      "173/173 [==============================] - 0s 2ms/step - loss: 0.7030 - accuracy: 0.6697 - val_loss: 0.6767 - val_accuracy: 0.6312\n",
      "Epoch 182/300\n",
      "173/173 [==============================] - 0s 2ms/step - loss: 0.6188 - accuracy: 0.6943 - val_loss: 0.5655 - val_accuracy: 0.7267\n",
      "Epoch 183/300\n",
      "173/173 [==============================] - 0s 1ms/step - loss: 0.6731 - accuracy: 0.6784 - val_loss: 0.6924 - val_accuracy: 0.7245\n",
      "Epoch 184/300\n",
      "173/173 [==============================] - 0s 2ms/step - loss: 0.7077 - accuracy: 0.6766 - val_loss: 0.6706 - val_accuracy: 0.6797\n",
      "Epoch 185/300\n",
      "173/173 [==============================] - 0s 2ms/step - loss: 0.6588 - accuracy: 0.6824 - val_loss: 0.6655 - val_accuracy: 0.6515\n",
      "Epoch 186/300\n",
      "173/173 [==============================] - 0s 2ms/step - loss: 0.6465 - accuracy: 0.6800 - val_loss: 0.6817 - val_accuracy: 0.6435\n",
      "Epoch 187/300\n",
      "173/173 [==============================] - 0s 2ms/step - loss: 0.6363 - accuracy: 0.6893 - val_loss: 0.5353 - val_accuracy: 0.7281\n",
      "Epoch 188/300\n",
      "173/173 [==============================] - 0s 2ms/step - loss: 0.6532 - accuracy: 0.6826 - val_loss: 0.7993 - val_accuracy: 0.6226\n",
      "Epoch 189/300\n",
      "173/173 [==============================] - 0s 2ms/step - loss: 0.6426 - accuracy: 0.6824 - val_loss: 0.6066 - val_accuracy: 0.7122\n",
      "Epoch 190/300\n",
      "173/173 [==============================] - 0s 2ms/step - loss: 0.7097 - accuracy: 0.6757 - val_loss: 0.7419 - val_accuracy: 0.6631\n",
      "Epoch 191/300\n",
      "173/173 [==============================] - 0s 2ms/step - loss: 0.6544 - accuracy: 0.6817 - val_loss: 0.7019 - val_accuracy: 0.6377\n",
      "Epoch 192/300\n",
      "173/173 [==============================] - 0s 2ms/step - loss: 0.5943 - accuracy: 0.7010 - val_loss: 0.5298 - val_accuracy: 0.7346\n",
      "Epoch 193/300\n",
      "173/173 [==============================] - 0s 2ms/step - loss: 0.6524 - accuracy: 0.6768 - val_loss: 0.6047 - val_accuracy: 0.7252\n",
      "Epoch 194/300\n",
      "173/173 [==============================] - 0s 2ms/step - loss: 0.6173 - accuracy: 0.6954 - val_loss: 0.6480 - val_accuracy: 0.6580\n",
      "Epoch 195/300\n",
      "173/173 [==============================] - 0s 2ms/step - loss: 0.6018 - accuracy: 0.6988 - val_loss: 0.5546 - val_accuracy: 0.7245\n",
      "Epoch 196/300\n",
      "173/173 [==============================] - 0s 2ms/step - loss: 0.6316 - accuracy: 0.6811 - val_loss: 0.5807 - val_accuracy: 0.6992\n",
      "Epoch 197/300\n",
      "173/173 [==============================] - 0s 2ms/step - loss: 0.6055 - accuracy: 0.6914 - val_loss: 0.7033 - val_accuracy: 0.6804\n",
      "Epoch 198/300\n",
      "173/173 [==============================] - 0s 2ms/step - loss: 0.6567 - accuracy: 0.6858 - val_loss: 0.5627 - val_accuracy: 0.7267\n",
      "Epoch 199/300\n",
      "173/173 [==============================] - 0s 2ms/step - loss: 0.6361 - accuracy: 0.6849 - val_loss: 0.5480 - val_accuracy: 0.7231\n",
      "Epoch 200/300\n",
      "173/173 [==============================] - 0s 2ms/step - loss: 0.6504 - accuracy: 0.6826 - val_loss: 0.6113 - val_accuracy: 0.6602\n",
      "Epoch 201/300\n",
      "173/173 [==============================] - 0s 2ms/step - loss: 0.6372 - accuracy: 0.6837 - val_loss: 0.5453 - val_accuracy: 0.7317\n",
      "Epoch 202/300\n",
      "173/173 [==============================] - 0s 2ms/step - loss: 0.6246 - accuracy: 0.6913 - val_loss: 0.6981 - val_accuracy: 0.6580\n",
      "Epoch 203/300\n",
      "173/173 [==============================] - 0s 2ms/step - loss: 0.6504 - accuracy: 0.6734 - val_loss: 0.6537 - val_accuracy: 0.6226\n",
      "Epoch 204/300\n",
      "173/173 [==============================] - 0s 2ms/step - loss: 0.6351 - accuracy: 0.6847 - val_loss: 0.6946 - val_accuracy: 0.6428\n",
      "Epoch 205/300\n",
      "173/173 [==============================] - 0s 2ms/step - loss: 0.6043 - accuracy: 0.7028 - val_loss: 0.5370 - val_accuracy: 0.7303\n",
      "Epoch 206/300\n",
      "173/173 [==============================] - 0s 2ms/step - loss: 0.5860 - accuracy: 0.6996 - val_loss: 0.5697 - val_accuracy: 0.7180\n",
      "Epoch 207/300\n",
      "173/173 [==============================] - 0s 2ms/step - loss: 0.6140 - accuracy: 0.6891 - val_loss: 0.5638 - val_accuracy: 0.7173\n",
      "Epoch 208/300\n",
      "173/173 [==============================] - 0s 2ms/step - loss: 0.5973 - accuracy: 0.7025 - val_loss: 0.5953 - val_accuracy: 0.6978\n",
      "Epoch 209/300\n",
      "173/173 [==============================] - 0s 2ms/step - loss: 0.7325 - accuracy: 0.6652 - val_loss: 0.5709 - val_accuracy: 0.7202\n",
      "Epoch 210/300\n",
      "173/173 [==============================] - 0s 2ms/step - loss: 0.6345 - accuracy: 0.6842 - val_loss: 1.3051 - val_accuracy: 0.5177\n",
      "Epoch 211/300\n",
      "173/173 [==============================] - 0s 2ms/step - loss: 0.6233 - accuracy: 0.6835 - val_loss: 0.5363 - val_accuracy: 0.7346\n",
      "Epoch 212/300\n",
      "173/173 [==============================] - 0s 2ms/step - loss: 0.6035 - accuracy: 0.6938 - val_loss: 0.6201 - val_accuracy: 0.6790\n",
      "Epoch 213/300\n",
      "173/173 [==============================] - 0s 2ms/step - loss: 0.6323 - accuracy: 0.6784 - val_loss: 0.5498 - val_accuracy: 0.7209\n",
      "Epoch 214/300\n",
      "173/173 [==============================] - 0s 2ms/step - loss: 0.6129 - accuracy: 0.6907 - val_loss: 0.6562 - val_accuracy: 0.6522\n",
      "Epoch 215/300\n",
      "173/173 [==============================] - 0s 2ms/step - loss: 0.6120 - accuracy: 0.6970 - val_loss: 0.5969 - val_accuracy: 0.6898\n",
      "Epoch 216/300\n",
      "173/173 [==============================] - 0s 2ms/step - loss: 0.6013 - accuracy: 0.6847 - val_loss: 0.5890 - val_accuracy: 0.7173\n",
      "Epoch 217/300\n",
      "173/173 [==============================] - 0s 2ms/step - loss: 0.5857 - accuracy: 0.6936 - val_loss: 0.5665 - val_accuracy: 0.6970\n",
      "Epoch 218/300\n",
      "173/173 [==============================] - 0s 2ms/step - loss: 0.6119 - accuracy: 0.6943 - val_loss: 0.5432 - val_accuracy: 0.7281\n",
      "Epoch 219/300\n",
      "173/173 [==============================] - 0s 2ms/step - loss: 0.6126 - accuracy: 0.6903 - val_loss: 0.5804 - val_accuracy: 0.6934\n",
      "Epoch 220/300\n",
      "173/173 [==============================] - 0s 2ms/step - loss: 0.5840 - accuracy: 0.7073 - val_loss: 0.5418 - val_accuracy: 0.7310\n",
      "Epoch 221/300\n",
      "173/173 [==============================] - 0s 2ms/step - loss: 0.5856 - accuracy: 0.7054 - val_loss: 0.5602 - val_accuracy: 0.7209\n",
      "Epoch 222/300\n",
      "173/173 [==============================] - 0s 2ms/step - loss: 0.5817 - accuracy: 0.6999 - val_loss: 0.6059 - val_accuracy: 0.6710\n",
      "Epoch 223/300\n",
      "173/173 [==============================] - 0s 1ms/step - loss: 0.5803 - accuracy: 0.7043 - val_loss: 0.6675 - val_accuracy: 0.6370\n",
      "Epoch 224/300\n",
      "173/173 [==============================] - 0s 2ms/step - loss: 0.5920 - accuracy: 0.6911 - val_loss: 0.5380 - val_accuracy: 0.7289\n",
      "Epoch 225/300\n",
      "173/173 [==============================] - 0s 2ms/step - loss: 0.5807 - accuracy: 0.7014 - val_loss: 0.5954 - val_accuracy: 0.7231\n",
      "Epoch 226/300\n",
      "173/173 [==============================] - 0s 2ms/step - loss: 0.6169 - accuracy: 0.6678 - val_loss: 0.5886 - val_accuracy: 0.7195\n",
      "Epoch 227/300\n",
      "173/173 [==============================] - 0s 2ms/step - loss: 0.5975 - accuracy: 0.6799 - val_loss: 0.7001 - val_accuracy: 0.5213\n",
      "Epoch 228/300\n",
      "173/173 [==============================] - 0s 2ms/step - loss: 0.5958 - accuracy: 0.6640 - val_loss: 0.5554 - val_accuracy: 0.7028\n",
      "Epoch 229/300\n",
      "173/173 [==============================] - 0s 2ms/step - loss: 0.5616 - accuracy: 0.6954 - val_loss: 0.5536 - val_accuracy: 0.6920\n",
      "Epoch 230/300\n",
      "173/173 [==============================] - 0s 2ms/step - loss: 0.5538 - accuracy: 0.7158 - val_loss: 0.5413 - val_accuracy: 0.7274\n",
      "Epoch 231/300\n",
      "173/173 [==============================] - 0s 2ms/step - loss: 0.5576 - accuracy: 0.7175 - val_loss: 0.5508 - val_accuracy: 0.7202\n",
      "Epoch 232/300\n",
      "173/173 [==============================] - 0s 2ms/step - loss: 0.5543 - accuracy: 0.7120 - val_loss: 0.5555 - val_accuracy: 0.7043\n",
      "Epoch 233/300\n",
      "173/173 [==============================] - 0s 2ms/step - loss: 0.5609 - accuracy: 0.7157 - val_loss: 0.5576 - val_accuracy: 0.7057\n",
      "Epoch 234/300\n",
      "173/173 [==============================] - 0s 2ms/step - loss: 0.5650 - accuracy: 0.7102 - val_loss: 0.5584 - val_accuracy: 0.7173\n",
      "Epoch 235/300\n",
      "173/173 [==============================] - 0s 2ms/step - loss: 0.5586 - accuracy: 0.7007 - val_loss: 0.5556 - val_accuracy: 0.7267\n",
      "Epoch 236/300\n",
      "173/173 [==============================] - 0s 2ms/step - loss: 0.5576 - accuracy: 0.7052 - val_loss: 0.5610 - val_accuracy: 0.6941\n",
      "Epoch 237/300\n",
      "173/173 [==============================] - 0s 2ms/step - loss: 0.5601 - accuracy: 0.7113 - val_loss: 0.5348 - val_accuracy: 0.7317\n",
      "Epoch 238/300\n",
      "173/173 [==============================] - 0s 2ms/step - loss: 0.5640 - accuracy: 0.7043 - val_loss: 0.5678 - val_accuracy: 0.6970\n",
      "Epoch 239/300\n",
      "173/173 [==============================] - 0s 2ms/step - loss: 0.5828 - accuracy: 0.7091 - val_loss: 0.5829 - val_accuracy: 0.7007\n",
      "Epoch 240/300\n",
      "173/173 [==============================] - 0s 2ms/step - loss: 0.6032 - accuracy: 0.6918 - val_loss: 0.5701 - val_accuracy: 0.7260\n",
      "Epoch 241/300\n",
      "173/173 [==============================] - 0s 2ms/step - loss: 0.5733 - accuracy: 0.6838 - val_loss: 0.5634 - val_accuracy: 0.6782\n",
      "Epoch 242/300\n",
      "173/173 [==============================] - 0s 2ms/step - loss: 0.5598 - accuracy: 0.7124 - val_loss: 0.5582 - val_accuracy: 0.7195\n",
      "Epoch 243/300\n",
      "173/173 [==============================] - 0s 2ms/step - loss: 0.5562 - accuracy: 0.7111 - val_loss: 0.5573 - val_accuracy: 0.6891\n",
      "Epoch 244/300\n",
      "173/173 [==============================] - 0s 2ms/step - loss: 0.5549 - accuracy: 0.7133 - val_loss: 0.5432 - val_accuracy: 0.7260\n",
      "Epoch 245/300\n",
      "173/173 [==============================] - 0s 1ms/step - loss: 0.5763 - accuracy: 0.6956 - val_loss: 0.5811 - val_accuracy: 0.7021\n",
      "Epoch 246/300\n",
      "173/173 [==============================] - 0s 1ms/step - loss: 0.5806 - accuracy: 0.6770 - val_loss: 0.5705 - val_accuracy: 0.6819\n",
      "Epoch 247/300\n",
      "173/173 [==============================] - 0s 2ms/step - loss: 0.5814 - accuracy: 0.6950 - val_loss: 0.6272 - val_accuracy: 0.7079\n",
      "Epoch 248/300\n",
      "173/173 [==============================] - 0s 2ms/step - loss: 0.5839 - accuracy: 0.6654 - val_loss: 0.5688 - val_accuracy: 0.6623\n",
      "Epoch 249/300\n",
      "173/173 [==============================] - 0s 2ms/step - loss: 0.5906 - accuracy: 0.6811 - val_loss: 0.6223 - val_accuracy: 0.5459\n",
      "Epoch 250/300\n",
      "173/173 [==============================] - 0s 2ms/step - loss: 0.5716 - accuracy: 0.6844 - val_loss: 0.5519 - val_accuracy: 0.7093\n",
      "Epoch 251/300\n",
      "173/173 [==============================] - 0s 2ms/step - loss: 0.5632 - accuracy: 0.7120 - val_loss: 0.5602 - val_accuracy: 0.7317\n",
      "Epoch 252/300\n",
      "173/173 [==============================] - 0s 2ms/step - loss: 0.5716 - accuracy: 0.7144 - val_loss: 0.5616 - val_accuracy: 0.7202\n",
      "Epoch 253/300\n",
      "173/173 [==============================] - 0s 2ms/step - loss: 0.5857 - accuracy: 0.7007 - val_loss: 0.5804 - val_accuracy: 0.7151\n",
      "Epoch 254/300\n",
      "173/173 [==============================] - 0s 2ms/step - loss: 0.5748 - accuracy: 0.7088 - val_loss: 0.5546 - val_accuracy: 0.7289\n",
      "Epoch 255/300\n",
      "173/173 [==============================] - 0s 2ms/step - loss: 0.5683 - accuracy: 0.7044 - val_loss: 0.6873 - val_accuracy: 0.7339\n",
      "Epoch 256/300\n",
      "173/173 [==============================] - 0s 2ms/step - loss: 0.5821 - accuracy: 0.7097 - val_loss: 0.5600 - val_accuracy: 0.7216\n",
      "Epoch 257/300\n",
      "173/173 [==============================] - 0s 2ms/step - loss: 0.5805 - accuracy: 0.7017 - val_loss: 0.5806 - val_accuracy: 0.7151\n",
      "Epoch 258/300\n",
      "173/173 [==============================] - 0s 2ms/step - loss: 0.5977 - accuracy: 0.6925 - val_loss: 0.5771 - val_accuracy: 0.7158\n",
      "Epoch 259/300\n",
      "173/173 [==============================] - 0s 2ms/step - loss: 0.5980 - accuracy: 0.6809 - val_loss: 0.5619 - val_accuracy: 0.7303\n",
      "Epoch 260/300\n",
      "173/173 [==============================] - 0s 2ms/step - loss: 0.5703 - accuracy: 0.7225 - val_loss: 0.6023 - val_accuracy: 0.6927\n",
      "Epoch 261/300\n",
      "173/173 [==============================] - 0s 2ms/step - loss: 0.6076 - accuracy: 0.6875 - val_loss: 0.5386 - val_accuracy: 0.7303\n",
      "Epoch 262/300\n",
      "173/173 [==============================] - 0s 2ms/step - loss: 0.5646 - accuracy: 0.7144 - val_loss: 0.5965 - val_accuracy: 0.6847\n",
      "Epoch 263/300\n",
      "173/173 [==============================] - 0s 2ms/step - loss: 0.6474 - accuracy: 0.6477 - val_loss: 0.6300 - val_accuracy: 0.7223\n",
      "Epoch 264/300\n",
      "173/173 [==============================] - 0s 2ms/step - loss: 0.6339 - accuracy: 0.6383 - val_loss: 0.5608 - val_accuracy: 0.7180\n",
      "Epoch 265/300\n",
      "173/173 [==============================] - 0s 2ms/step - loss: 0.5589 - accuracy: 0.7133 - val_loss: 0.5591 - val_accuracy: 0.7187\n",
      "Epoch 266/300\n",
      "173/173 [==============================] - 0s 2ms/step - loss: 0.5775 - accuracy: 0.7073 - val_loss: 0.5511 - val_accuracy: 0.7289\n",
      "Epoch 267/300\n",
      "173/173 [==============================] - 0s 2ms/step - loss: 0.5615 - accuracy: 0.7157 - val_loss: 0.5409 - val_accuracy: 0.7354\n",
      "Epoch 268/300\n",
      "173/173 [==============================] - 0s 2ms/step - loss: 0.5732 - accuracy: 0.7113 - val_loss: 0.5513 - val_accuracy: 0.7216\n",
      "Epoch 269/300\n",
      "173/173 [==============================] - 0s 2ms/step - loss: 0.5638 - accuracy: 0.7073 - val_loss: 0.5377 - val_accuracy: 0.7325\n",
      "Epoch 270/300\n",
      "173/173 [==============================] - 0s 2ms/step - loss: 0.5613 - accuracy: 0.7148 - val_loss: 0.5418 - val_accuracy: 0.7325\n",
      "Epoch 271/300\n",
      "173/173 [==============================] - 0s 2ms/step - loss: 0.5743 - accuracy: 0.7059 - val_loss: 0.5386 - val_accuracy: 0.7296\n",
      "Epoch 272/300\n",
      "173/173 [==============================] - 0s 2ms/step - loss: 0.5696 - accuracy: 0.7126 - val_loss: 0.5358 - val_accuracy: 0.7267\n",
      "Epoch 273/300\n",
      "173/173 [==============================] - 0s 2ms/step - loss: 0.5750 - accuracy: 0.7102 - val_loss: 0.5447 - val_accuracy: 0.7303\n",
      "Epoch 274/300\n",
      "173/173 [==============================] - 0s 2ms/step - loss: 0.5624 - accuracy: 0.7128 - val_loss: 0.5538 - val_accuracy: 0.7310\n",
      "Epoch 275/300\n",
      "173/173 [==============================] - 0s 2ms/step - loss: 0.6309 - accuracy: 0.6426 - val_loss: 0.5691 - val_accuracy: 0.7166\n",
      "Epoch 276/300\n",
      "173/173 [==============================] - 0s 2ms/step - loss: 0.5694 - accuracy: 0.7093 - val_loss: 0.5456 - val_accuracy: 0.7274\n",
      "Epoch 277/300\n",
      "173/173 [==============================] - 0s 2ms/step - loss: 0.5626 - accuracy: 0.7128 - val_loss: 0.5525 - val_accuracy: 0.7216\n",
      "Epoch 278/300\n",
      "173/173 [==============================] - 0s 2ms/step - loss: 0.5744 - accuracy: 0.6963 - val_loss: 0.5379 - val_accuracy: 0.7245\n",
      "Epoch 279/300\n",
      "173/173 [==============================] - 0s 2ms/step - loss: 0.5584 - accuracy: 0.7148 - val_loss: 0.5477 - val_accuracy: 0.7216\n",
      "Epoch 280/300\n",
      "173/173 [==============================] - 0s 2ms/step - loss: 0.5551 - accuracy: 0.7196 - val_loss: 0.5347 - val_accuracy: 0.7325\n",
      "Epoch 281/300\n",
      "173/173 [==============================] - 0s 2ms/step - loss: 0.5552 - accuracy: 0.7198 - val_loss: 0.5675 - val_accuracy: 0.7137\n",
      "Epoch 282/300\n",
      "173/173 [==============================] - 0s 2ms/step - loss: 0.5763 - accuracy: 0.7057 - val_loss: 0.5487 - val_accuracy: 0.7361\n",
      "Epoch 283/300\n",
      "173/173 [==============================] - 0s 2ms/step - loss: 0.5813 - accuracy: 0.7088 - val_loss: 0.5950 - val_accuracy: 0.6862\n",
      "Epoch 284/300\n",
      "173/173 [==============================] - 0s 2ms/step - loss: 0.5688 - accuracy: 0.7144 - val_loss: 0.5617 - val_accuracy: 0.7173\n",
      "Epoch 285/300\n",
      "173/173 [==============================] - 0s 2ms/step - loss: 0.5617 - accuracy: 0.7193 - val_loss: 0.5505 - val_accuracy: 0.7289\n",
      "Epoch 286/300\n",
      "173/173 [==============================] - 0s 2ms/step - loss: 0.5667 - accuracy: 0.7151 - val_loss: 0.5745 - val_accuracy: 0.6949\n",
      "Epoch 287/300\n",
      "173/173 [==============================] - 0s 2ms/step - loss: 0.5734 - accuracy: 0.7097 - val_loss: 0.5593 - val_accuracy: 0.7144\n",
      "Epoch 288/300\n",
      "173/173 [==============================] - 0s 2ms/step - loss: 0.5826 - accuracy: 0.6911 - val_loss: 0.6157 - val_accuracy: 0.6471\n",
      "Epoch 289/300\n",
      "173/173 [==============================] - 0s 1ms/step - loss: 0.5672 - accuracy: 0.7171 - val_loss: 0.5700 - val_accuracy: 0.6999\n",
      "Epoch 290/300\n",
      "173/173 [==============================] - 0s 2ms/step - loss: 0.5748 - accuracy: 0.7129 - val_loss: 0.5762 - val_accuracy: 0.6963\n",
      "Epoch 291/300\n",
      "173/173 [==============================] - 0s 2ms/step - loss: 0.5619 - accuracy: 0.7149 - val_loss: 0.5397 - val_accuracy: 0.7361\n",
      "Epoch 292/300\n",
      "173/173 [==============================] - 0s 2ms/step - loss: 0.5947 - accuracy: 0.6923 - val_loss: 0.5460 - val_accuracy: 0.7238\n",
      "Epoch 293/300\n",
      "173/173 [==============================] - 0s 2ms/step - loss: 0.5586 - accuracy: 0.7187 - val_loss: 0.5424 - val_accuracy: 0.7346\n",
      "Epoch 294/300\n",
      "173/173 [==============================] - 0s 2ms/step - loss: 0.5571 - accuracy: 0.7185 - val_loss: 0.5474 - val_accuracy: 0.7346\n",
      "Epoch 295/300\n",
      "173/173 [==============================] - 0s 2ms/step - loss: 0.5530 - accuracy: 0.7229 - val_loss: 0.5539 - val_accuracy: 0.7260\n",
      "Epoch 296/300\n",
      "173/173 [==============================] - 0s 2ms/step - loss: 0.5807 - accuracy: 0.7014 - val_loss: 0.5347 - val_accuracy: 0.7339\n",
      "Epoch 297/300\n",
      "173/173 [==============================] - 0s 2ms/step - loss: 0.5823 - accuracy: 0.6923 - val_loss: 0.5454 - val_accuracy: 0.7310\n",
      "Epoch 298/300\n",
      "173/173 [==============================] - 0s 2ms/step - loss: 0.5840 - accuracy: 0.6864 - val_loss: 0.5969 - val_accuracy: 0.6652\n",
      "Epoch 299/300\n",
      "173/173 [==============================] - 0s 2ms/step - loss: 0.6229 - accuracy: 0.6629 - val_loss: 0.5713 - val_accuracy: 0.6941\n",
      "Epoch 300/300\n",
      "173/173 [==============================] - 0s 2ms/step - loss: 0.5491 - accuracy: 0.7240 - val_loss: 0.5595 - val_accuracy: 0.7108\n"
     ]
    },
    {
     "data": {
      "text/plain": [
       "<keras.src.callbacks.History at 0x7ecf17658790>"
      ]
     },
     "execution_count": 23,
     "metadata": {},
     "output_type": "execute_result"
    }
   ],
   "source": [
    "model.fit(\n",
    "    x=X_train,\n",
    "    y=y_train,\n",
    "    batch_size=batch_size,\n",
    "    epochs=epochs,\n",
    "    verbose='auto',\n",
    "    callbacks=None,\n",
    "    validation_split=0.2,\n",
    "    \n",
    "    shuffle=True,\n",
    "    \n",
    ")"
   ]
  },
  {
   "cell_type": "markdown",
   "id": "c1251e3e",
   "metadata": {
    "papermill": {
     "duration": 0.08625,
     "end_time": "2025-08-14T18:13:46.698495",
     "exception": false,
     "start_time": "2025-08-14T18:13:46.612245",
     "status": "completed"
    },
    "tags": []
   },
   "source": [
    "X_test → features for testing.\n",
    "\n",
    "y_test → true labels for testing.\n",
    "\n",
    "model.evaluate():\n",
    "\n",
    "Computes the loss using the loss function you compiled (SparseCategoricalCrossentropy).\n",
    "\n",
    "Computes metrics (here, accuracy) on the test set.\n",
    "\n",
    "The results are stored in loss and accuracy."
   ]
  },
  {
   "cell_type": "code",
   "execution_count": 24,
   "id": "b7c1a98b",
   "metadata": {
    "execution": {
     "iopub.execute_input": "2025-08-14T18:13:46.874148Z",
     "iopub.status.busy": "2025-08-14T18:13:46.873811Z",
     "iopub.status.idle": "2025-08-14T18:13:47.035215Z",
     "shell.execute_reply": "2025-08-14T18:13:47.034283Z"
    },
    "papermill": {
     "duration": 0.251004,
     "end_time": "2025-08-14T18:13:47.036712",
     "exception": false,
     "start_time": "2025-08-14T18:13:46.785708",
     "status": "completed"
    },
    "tags": []
   },
   "outputs": [
    {
     "name": "stdout",
     "output_type": "stream",
     "text": [
      "93/93 [==============================] - 0s 1ms/step - loss: 0.5647 - accuracy: 0.7095\n",
      "Test Loss: 0.5647\n",
      "Test Accuracy: 0.7095\n"
     ]
    }
   ],
   "source": [
    "loss, accuracy = model.evaluate(X_test, y_test)\n",
    "\n",
    "print(f\"Test Loss: {loss:.4f}\")\n",
    "print(f\"Test Accuracy: {accuracy:.4f}\")"
   ]
  },
  {
   "cell_type": "markdown",
   "id": "473869e5",
   "metadata": {
    "papermill": {
     "duration": 0.091972,
     "end_time": "2025-08-14T18:13:47.221185",
     "exception": false,
     "start_time": "2025-08-14T18:13:47.129213",
     "status": "completed"
    },
    "tags": []
   },
   "source": [
    "Loss = 0.6144\n",
    "\n",
    "This is the value of the SparseCategoricalCrossentropy loss on the test data.\n",
    "\n",
    "Accuracy = 0.7338\n",
    "\n",
    "About 73.4% of the test samples were correctly classified."
   ]
  },
  {
   "cell_type": "markdown",
   "id": "8f349d16",
   "metadata": {
    "papermill": {
     "duration": 0.088876,
     "end_time": "2025-08-14T18:13:47.401059",
     "exception": false,
     "start_time": "2025-08-14T18:13:47.312183",
     "status": "completed"
    },
    "tags": []
   },
   "source": [
    "## Use EarlyStopping to avoid overfitting:"
   ]
  },
  {
   "cell_type": "markdown",
   "id": "99f9079e",
   "metadata": {
    "papermill": {
     "duration": 0.089307,
     "end_time": "2025-08-14T18:13:47.579385",
     "exception": false,
     "start_time": "2025-08-14T18:13:47.490078",
     "status": "completed"
    },
    "tags": []
   },
   "source": [
    "What this does:\n",
    "\n",
    "The model will train for up to 300 epochs (your epochs variable).\n",
    "\n",
    "If validation loss doesn’t improve for 20 consecutive epochs, training will stop automatically.\n",
    "\n",
    "Best weights (lowest val_loss) are restored after stopping.\n",
    "\n",
    "This prevents wasting time training longer than necessary and helps avoid overfitting."
   ]
  },
  {
   "cell_type": "code",
   "execution_count": 25,
   "id": "5d692ae8",
   "metadata": {
    "execution": {
     "iopub.execute_input": "2025-08-14T18:13:47.762766Z",
     "iopub.status.busy": "2025-08-14T18:13:47.762444Z",
     "iopub.status.idle": "2025-08-14T18:13:56.899715Z",
     "shell.execute_reply": "2025-08-14T18:13:56.898710Z"
    },
    "papermill": {
     "duration": 9.230458,
     "end_time": "2025-08-14T18:13:56.901656",
     "exception": false,
     "start_time": "2025-08-14T18:13:47.671198",
     "status": "completed"
    },
    "scrolled": true,
    "tags": []
   },
   "outputs": [
    {
     "name": "stdout",
     "output_type": "stream",
     "text": [
      "Epoch 1/300\n",
      "173/173 [==============================] - 0s 2ms/step - loss: 0.5529 - accuracy: 0.7223 - val_loss: 0.5361 - val_accuracy: 0.7310\n",
      "Epoch 2/300\n",
      "173/173 [==============================] - 0s 2ms/step - loss: 0.5554 - accuracy: 0.7148 - val_loss: 0.5358 - val_accuracy: 0.7317\n",
      "Epoch 3/300\n",
      "173/173 [==============================] - 0s 2ms/step - loss: 0.5584 - accuracy: 0.7214 - val_loss: 0.5375 - val_accuracy: 0.7346\n",
      "Epoch 4/300\n",
      "173/173 [==============================] - 0s 2ms/step - loss: 0.5818 - accuracy: 0.6885 - val_loss: 0.5572 - val_accuracy: 0.7303\n",
      "Epoch 5/300\n",
      "173/173 [==============================] - 0s 2ms/step - loss: 0.5616 - accuracy: 0.7160 - val_loss: 0.5397 - val_accuracy: 0.7303\n",
      "Epoch 6/300\n",
      "173/173 [==============================] - 0s 2ms/step - loss: 0.5657 - accuracy: 0.7088 - val_loss: 0.5793 - val_accuracy: 0.6934\n",
      "Epoch 7/300\n",
      "173/173 [==============================] - 0s 2ms/step - loss: 0.5668 - accuracy: 0.7066 - val_loss: 0.5568 - val_accuracy: 0.7115\n",
      "Epoch 8/300\n",
      "173/173 [==============================] - 0s 2ms/step - loss: 0.5723 - accuracy: 0.7162 - val_loss: 0.5468 - val_accuracy: 0.7346\n",
      "Epoch 9/300\n",
      "173/173 [==============================] - 0s 2ms/step - loss: 0.5505 - accuracy: 0.7222 - val_loss: 0.5363 - val_accuracy: 0.7354\n",
      "Epoch 10/300\n",
      "173/173 [==============================] - 0s 2ms/step - loss: 0.5865 - accuracy: 0.6893 - val_loss: 0.6300 - val_accuracy: 0.6486\n",
      "Epoch 11/300\n",
      "173/173 [==============================] - 0s 2ms/step - loss: 0.5790 - accuracy: 0.7017 - val_loss: 0.5748 - val_accuracy: 0.7122\n",
      "Epoch 12/300\n",
      "173/173 [==============================] - 0s 2ms/step - loss: 0.6058 - accuracy: 0.6759 - val_loss: 0.5332 - val_accuracy: 0.7303\n",
      "Epoch 13/300\n",
      "173/173 [==============================] - 0s 2ms/step - loss: 0.5575 - accuracy: 0.7175 - val_loss: 0.5398 - val_accuracy: 0.7332\n",
      "Epoch 14/300\n",
      "173/173 [==============================] - 0s 2ms/step - loss: 0.5544 - accuracy: 0.7184 - val_loss: 0.5367 - val_accuracy: 0.7310\n",
      "Epoch 15/300\n",
      "173/173 [==============================] - 0s 2ms/step - loss: 0.5506 - accuracy: 0.7229 - val_loss: 0.5362 - val_accuracy: 0.7325\n",
      "Epoch 16/300\n",
      "173/173 [==============================] - 0s 2ms/step - loss: 0.5549 - accuracy: 0.7211 - val_loss: 0.5483 - val_accuracy: 0.7332\n",
      "Epoch 17/300\n",
      "173/173 [==============================] - 0s 2ms/step - loss: 0.5677 - accuracy: 0.7090 - val_loss: 0.5447 - val_accuracy: 0.7267\n",
      "Epoch 18/300\n",
      "173/173 [==============================] - 0s 2ms/step - loss: 0.5612 - accuracy: 0.7146 - val_loss: 0.5566 - val_accuracy: 0.7325\n",
      "Epoch 19/300\n",
      "173/173 [==============================] - 0s 2ms/step - loss: 0.5653 - accuracy: 0.7160 - val_loss: 0.5456 - val_accuracy: 0.7310\n",
      "Epoch 20/300\n",
      "173/173 [==============================] - 0s 2ms/step - loss: 0.5529 - accuracy: 0.7213 - val_loss: 0.5406 - val_accuracy: 0.7317\n",
      "Epoch 21/300\n",
      "173/173 [==============================] - 0s 2ms/step - loss: 0.5580 - accuracy: 0.7131 - val_loss: 0.5658 - val_accuracy: 0.7101\n",
      "Epoch 22/300\n",
      "173/173 [==============================] - 0s 2ms/step - loss: 0.5562 - accuracy: 0.7225 - val_loss: 0.5372 - val_accuracy: 0.7325\n",
      "Epoch 23/300\n",
      "173/173 [==============================] - 0s 2ms/step - loss: 0.5731 - accuracy: 0.7061 - val_loss: 0.5924 - val_accuracy: 0.6703\n",
      "Epoch 24/300\n",
      "173/173 [==============================] - 0s 2ms/step - loss: 0.5616 - accuracy: 0.7162 - val_loss: 0.5407 - val_accuracy: 0.7325\n",
      "Epoch 25/300\n",
      "173/173 [==============================] - 0s 2ms/step - loss: 0.5554 - accuracy: 0.7198 - val_loss: 0.5427 - val_accuracy: 0.7303\n",
      "Epoch 26/300\n",
      "173/173 [==============================] - 0s 2ms/step - loss: 0.5613 - accuracy: 0.7106 - val_loss: 0.5338 - val_accuracy: 0.7325\n",
      "Epoch 27/300\n",
      "173/173 [==============================] - 0s 2ms/step - loss: 0.5533 - accuracy: 0.7189 - val_loss: 0.5437 - val_accuracy: 0.7317\n",
      "Epoch 28/300\n",
      "173/173 [==============================] - 0s 2ms/step - loss: 0.5513 - accuracy: 0.7198 - val_loss: 0.5516 - val_accuracy: 0.7332\n",
      "Epoch 29/300\n",
      "173/173 [==============================] - 0s 2ms/step - loss: 0.5709 - accuracy: 0.7146 - val_loss: 0.6200 - val_accuracy: 0.6334\n",
      "Epoch 30/300\n",
      "173/173 [==============================] - 0s 2ms/step - loss: 0.5657 - accuracy: 0.7054 - val_loss: 0.5359 - val_accuracy: 0.7325\n",
      "Epoch 31/300\n",
      "173/173 [==============================] - 0s 2ms/step - loss: 0.5563 - accuracy: 0.7223 - val_loss: 0.5740 - val_accuracy: 0.7216\n",
      "Epoch 32/300\n",
      "173/173 [==============================] - 0s 2ms/step - loss: 0.5672 - accuracy: 0.7153 - val_loss: 0.5355 - val_accuracy: 0.7303\n"
     ]
    },
    {
     "data": {
      "text/plain": [
       "<keras.src.callbacks.History at 0x7ecf0c0f5f90>"
      ]
     },
     "execution_count": 25,
     "metadata": {},
     "output_type": "execute_result"
    }
   ],
   "source": [
    "from tensorflow.keras.callbacks import EarlyStopping\n",
    "\n",
    "early_stop = EarlyStopping(monitor='val_loss', patience=20, restore_best_weights=True)\n",
    "model.fit(\n",
    "    x=X_train,\n",
    "    y=y_train,\n",
    "    batch_size=batch_size,\n",
    "    epochs=epochs,\n",
    "    validation_split=0.2,\n",
    "    shuffle=True,\n",
    "    callbacks=[early_stop]\n",
    ")\n"
   ]
  },
  {
   "cell_type": "code",
   "execution_count": 26,
   "id": "feabd1e1",
   "metadata": {
    "execution": {
     "iopub.execute_input": "2025-08-14T18:13:57.141448Z",
     "iopub.status.busy": "2025-08-14T18:13:57.141138Z",
     "iopub.status.idle": "2025-08-14T18:13:57.303747Z",
     "shell.execute_reply": "2025-08-14T18:13:57.302480Z"
    },
    "papermill": {
     "duration": 0.260663,
     "end_time": "2025-08-14T18:13:57.305501",
     "exception": false,
     "start_time": "2025-08-14T18:13:57.044838",
     "status": "completed"
    },
    "tags": []
   },
   "outputs": [
    {
     "name": "stdout",
     "output_type": "stream",
     "text": [
      "93/93 [==============================] - 0s 1ms/step - loss: 0.5488 - accuracy: 0.7122\n",
      "Test Loss: 0.5488\n",
      "Test Accuracy: 0.7122\n"
     ]
    }
   ],
   "source": [
    "loss, accuracy = model.evaluate(X_test, y_test)\n",
    "print(f\"Test Loss: {loss:.4f}\")\n",
    "print(f\"Test Accuracy: {accuracy:.4f}\")\n"
   ]
  },
  {
   "cell_type": "markdown",
   "id": "cb615056",
   "metadata": {
    "papermill": {
     "duration": 0.095098,
     "end_time": "2025-08-14T18:13:57.498890",
     "exception": false,
     "start_time": "2025-08-14T18:13:57.403792",
     "status": "completed"
    },
    "tags": []
   },
   "source": [
    "Observations:\n",
    "\n",
    "Loss: Slightly lower with EarlyStopping (0.5986 vs 0.6144) → model stopped at a point where validation loss was minimized.\n",
    "\n",
    "Accuracy: Very similar (0.7294 vs 0.7338) → EarlyStopping didn’t hurt performance; it may have prevented unnecessary training epochs."
   ]
  },
  {
   "cell_type": "code",
   "execution_count": null,
   "id": "06d652a0",
   "metadata": {
    "papermill": {
     "duration": 0.093362,
     "end_time": "2025-08-14T18:13:57.687159",
     "exception": false,
     "start_time": "2025-08-14T18:13:57.593797",
     "status": "completed"
    },
    "tags": []
   },
   "outputs": [],
   "source": []
  }
 ],
 "metadata": {
  "kaggle": {
   "accelerator": "none",
   "dataSources": [
    {
     "datasetId": 600276,
     "sourceId": 1078419,
     "sourceType": "datasetVersion"
    }
   ],
   "dockerImageVersionId": 30646,
   "isGpuEnabled": false,
   "isInternetEnabled": true,
   "language": "python",
   "sourceType": "notebook"
  },
  "kernelspec": {
   "display_name": "Python 3 (ipykernel)",
   "language": "python",
   "name": "python3"
  },
  "language_info": {
   "codemirror_mode": {
    "name": "ipython",
    "version": 3
   },
   "file_extension": ".py",
   "mimetype": "text/x-python",
   "name": "python",
   "nbconvert_exporter": "python",
   "pygments_lexer": "ipython3",
   "version": "3.10.13"
  },
  "papermill": {
   "default_parameters": {},
   "duration": 117.252684,
   "end_time": "2025-08-14T18:14:00.018286",
   "environment_variables": {},
   "exception": null,
   "input_path": "__notebook__.ipynb",
   "output_path": "__notebook__.ipynb",
   "parameters": {},
   "start_time": "2025-08-14T18:12:02.765602",
   "version": "2.5.0"
  }
 },
 "nbformat": 4,
 "nbformat_minor": 5
}
